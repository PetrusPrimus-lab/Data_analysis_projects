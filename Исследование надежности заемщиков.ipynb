{
 "cells": [
  {
   "cell_type": "markdown",
   "id": "386f2ae7",
   "metadata": {
    "deletable": false,
    "editable": false,
    "id": "386f2ae7"
   },
   "source": [
    "# Исследование надежности заемщиков\n"
   ]
  },
  {
   "cell_type": "markdown",
   "id": "f00cf17d",
   "metadata": {},
   "source": [
    "## Оглавление\n",
    "* [Общая информация о данных](#general)\n",
    "* [Предобработка данных](#preprocessing)\n",
    "    * [Удаление пропусков](#drop_na)\n",
    "    * [Обработка аномальных значений](#anomal)\n",
    "    * [Удаление пропусков (продолжение)](#drop_na_continue)\n",
    "    * [Изменение типов данных](#dtype)\n",
    "    * [Обработка дубликатов](#duplicates)\n",
    "    * [Категоризация данных](#category)\n",
    "* [Исследовательский анализ данных](#research)\n",
    "    * [Зависимость между количеством детей и возвратом кредита в срок](#children)\n",
    "    * [Зависимость между семейным положением и возвратом кредита в срок](#family)\n",
    "    * [Зависимость между уровнем дохода и возвратом кредита в срок](#income)\n",
    "    * [Влияние цели взятия кредита на его возврат в срок](#purpose)\n",
    "* [Общий вывод](#conclusion)"
   ]
  },
  {
   "cell_type": "markdown",
   "id": "26613308",
   "metadata": {
    "deletable": false,
    "editable": false,
    "id": "26613308"
   },
   "source": [
    "## Общая информация о данных <a class=\"anchor\" id=\"general\"></a>"
   ]
  },
  {
   "cell_type": "markdown",
   "id": "3c9f838e",
   "metadata": {
    "deletable": false,
    "editable": false,
    "id": "3c9f838e"
   },
   "source": [
    "**Импортируем библиотеку pandas. Считываем данные из csv-файла в датафрейм и сохраняем в переменную `data`. Путь к файлу:**\n",
    "\n",
    "`data.csv`"
   ]
  },
  {
   "cell_type": "code",
   "execution_count": 1,
   "id": "77a68a90",
   "metadata": {
    "deletable": false,
    "id": "77a68a90"
   },
   "outputs": [],
   "source": [
    "import pandas as pd\n",
    "import warnings\n",
    "warnings.filterwarnings('ignore')\n",
    "try:\n",
    "    data = pd.read_csv('data.csv')\n",
    "except:\n",
    "    data = pd.read_csv('https://code.s3.yandex.net/datasets/data.csv')"
   ]
  },
  {
   "cell_type": "markdown",
   "id": "45365635",
   "metadata": {
    "deletable": false,
    "editable": false,
    "id": "45365635"
   },
   "source": [
    "**Выведем первые 20 строчек датафрейма `data` на экран.**"
   ]
  },
  {
   "cell_type": "code",
   "execution_count": 2,
   "id": "b0451a9a",
   "metadata": {
    "deletable": false,
    "id": "b0451a9a",
    "outputId": "1a8f3ef2-d323-4ec2-ddf7-89670b5944c4"
   },
   "outputs": [
    {
     "data": {
      "text/html": [
       "<div>\n",
       "<style scoped>\n",
       "    .dataframe tbody tr th:only-of-type {\n",
       "        vertical-align: middle;\n",
       "    }\n",
       "\n",
       "    .dataframe tbody tr th {\n",
       "        vertical-align: top;\n",
       "    }\n",
       "\n",
       "    .dataframe thead th {\n",
       "        text-align: right;\n",
       "    }\n",
       "</style>\n",
       "<table border=\"1\" class=\"dataframe\">\n",
       "  <thead>\n",
       "    <tr style=\"text-align: right;\">\n",
       "      <th></th>\n",
       "      <th>children</th>\n",
       "      <th>days_employed</th>\n",
       "      <th>dob_years</th>\n",
       "      <th>education</th>\n",
       "      <th>education_id</th>\n",
       "      <th>family_status</th>\n",
       "      <th>family_status_id</th>\n",
       "      <th>gender</th>\n",
       "      <th>income_type</th>\n",
       "      <th>debt</th>\n",
       "      <th>total_income</th>\n",
       "      <th>purpose</th>\n",
       "    </tr>\n",
       "  </thead>\n",
       "  <tbody>\n",
       "    <tr>\n",
       "      <th>0</th>\n",
       "      <td>1</td>\n",
       "      <td>-8437.673028</td>\n",
       "      <td>42</td>\n",
       "      <td>высшее</td>\n",
       "      <td>0</td>\n",
       "      <td>женат / замужем</td>\n",
       "      <td>0</td>\n",
       "      <td>F</td>\n",
       "      <td>сотрудник</td>\n",
       "      <td>0</td>\n",
       "      <td>253875.639453</td>\n",
       "      <td>покупка жилья</td>\n",
       "    </tr>\n",
       "    <tr>\n",
       "      <th>1</th>\n",
       "      <td>1</td>\n",
       "      <td>-4024.803754</td>\n",
       "      <td>36</td>\n",
       "      <td>среднее</td>\n",
       "      <td>1</td>\n",
       "      <td>женат / замужем</td>\n",
       "      <td>0</td>\n",
       "      <td>F</td>\n",
       "      <td>сотрудник</td>\n",
       "      <td>0</td>\n",
       "      <td>112080.014102</td>\n",
       "      <td>приобретение автомобиля</td>\n",
       "    </tr>\n",
       "    <tr>\n",
       "      <th>2</th>\n",
       "      <td>0</td>\n",
       "      <td>-5623.422610</td>\n",
       "      <td>33</td>\n",
       "      <td>Среднее</td>\n",
       "      <td>1</td>\n",
       "      <td>женат / замужем</td>\n",
       "      <td>0</td>\n",
       "      <td>M</td>\n",
       "      <td>сотрудник</td>\n",
       "      <td>0</td>\n",
       "      <td>145885.952297</td>\n",
       "      <td>покупка жилья</td>\n",
       "    </tr>\n",
       "    <tr>\n",
       "      <th>3</th>\n",
       "      <td>3</td>\n",
       "      <td>-4124.747207</td>\n",
       "      <td>32</td>\n",
       "      <td>среднее</td>\n",
       "      <td>1</td>\n",
       "      <td>женат / замужем</td>\n",
       "      <td>0</td>\n",
       "      <td>M</td>\n",
       "      <td>сотрудник</td>\n",
       "      <td>0</td>\n",
       "      <td>267628.550329</td>\n",
       "      <td>дополнительное образование</td>\n",
       "    </tr>\n",
       "    <tr>\n",
       "      <th>4</th>\n",
       "      <td>0</td>\n",
       "      <td>340266.072047</td>\n",
       "      <td>53</td>\n",
       "      <td>среднее</td>\n",
       "      <td>1</td>\n",
       "      <td>гражданский брак</td>\n",
       "      <td>1</td>\n",
       "      <td>F</td>\n",
       "      <td>пенсионер</td>\n",
       "      <td>0</td>\n",
       "      <td>158616.077870</td>\n",
       "      <td>сыграть свадьбу</td>\n",
       "    </tr>\n",
       "    <tr>\n",
       "      <th>5</th>\n",
       "      <td>0</td>\n",
       "      <td>-926.185831</td>\n",
       "      <td>27</td>\n",
       "      <td>высшее</td>\n",
       "      <td>0</td>\n",
       "      <td>гражданский брак</td>\n",
       "      <td>1</td>\n",
       "      <td>M</td>\n",
       "      <td>компаньон</td>\n",
       "      <td>0</td>\n",
       "      <td>255763.565419</td>\n",
       "      <td>покупка жилья</td>\n",
       "    </tr>\n",
       "    <tr>\n",
       "      <th>6</th>\n",
       "      <td>0</td>\n",
       "      <td>-2879.202052</td>\n",
       "      <td>43</td>\n",
       "      <td>высшее</td>\n",
       "      <td>0</td>\n",
       "      <td>женат / замужем</td>\n",
       "      <td>0</td>\n",
       "      <td>F</td>\n",
       "      <td>компаньон</td>\n",
       "      <td>0</td>\n",
       "      <td>240525.971920</td>\n",
       "      <td>операции с жильем</td>\n",
       "    </tr>\n",
       "    <tr>\n",
       "      <th>7</th>\n",
       "      <td>0</td>\n",
       "      <td>-152.779569</td>\n",
       "      <td>50</td>\n",
       "      <td>СРЕДНЕЕ</td>\n",
       "      <td>1</td>\n",
       "      <td>женат / замужем</td>\n",
       "      <td>0</td>\n",
       "      <td>M</td>\n",
       "      <td>сотрудник</td>\n",
       "      <td>0</td>\n",
       "      <td>135823.934197</td>\n",
       "      <td>образование</td>\n",
       "    </tr>\n",
       "    <tr>\n",
       "      <th>8</th>\n",
       "      <td>2</td>\n",
       "      <td>-6929.865299</td>\n",
       "      <td>35</td>\n",
       "      <td>ВЫСШЕЕ</td>\n",
       "      <td>0</td>\n",
       "      <td>гражданский брак</td>\n",
       "      <td>1</td>\n",
       "      <td>F</td>\n",
       "      <td>сотрудник</td>\n",
       "      <td>0</td>\n",
       "      <td>95856.832424</td>\n",
       "      <td>на проведение свадьбы</td>\n",
       "    </tr>\n",
       "    <tr>\n",
       "      <th>9</th>\n",
       "      <td>0</td>\n",
       "      <td>-2188.756445</td>\n",
       "      <td>41</td>\n",
       "      <td>среднее</td>\n",
       "      <td>1</td>\n",
       "      <td>женат / замужем</td>\n",
       "      <td>0</td>\n",
       "      <td>M</td>\n",
       "      <td>сотрудник</td>\n",
       "      <td>0</td>\n",
       "      <td>144425.938277</td>\n",
       "      <td>покупка жилья для семьи</td>\n",
       "    </tr>\n",
       "    <tr>\n",
       "      <th>10</th>\n",
       "      <td>2</td>\n",
       "      <td>-4171.483647</td>\n",
       "      <td>36</td>\n",
       "      <td>высшее</td>\n",
       "      <td>0</td>\n",
       "      <td>женат / замужем</td>\n",
       "      <td>0</td>\n",
       "      <td>M</td>\n",
       "      <td>компаньон</td>\n",
       "      <td>0</td>\n",
       "      <td>113943.491460</td>\n",
       "      <td>покупка недвижимости</td>\n",
       "    </tr>\n",
       "    <tr>\n",
       "      <th>11</th>\n",
       "      <td>0</td>\n",
       "      <td>-792.701887</td>\n",
       "      <td>40</td>\n",
       "      <td>среднее</td>\n",
       "      <td>1</td>\n",
       "      <td>женат / замужем</td>\n",
       "      <td>0</td>\n",
       "      <td>F</td>\n",
       "      <td>сотрудник</td>\n",
       "      <td>0</td>\n",
       "      <td>77069.234271</td>\n",
       "      <td>покупка коммерческой недвижимости</td>\n",
       "    </tr>\n",
       "    <tr>\n",
       "      <th>12</th>\n",
       "      <td>0</td>\n",
       "      <td>NaN</td>\n",
       "      <td>65</td>\n",
       "      <td>среднее</td>\n",
       "      <td>1</td>\n",
       "      <td>гражданский брак</td>\n",
       "      <td>1</td>\n",
       "      <td>M</td>\n",
       "      <td>пенсионер</td>\n",
       "      <td>0</td>\n",
       "      <td>NaN</td>\n",
       "      <td>сыграть свадьбу</td>\n",
       "    </tr>\n",
       "    <tr>\n",
       "      <th>13</th>\n",
       "      <td>0</td>\n",
       "      <td>-1846.641941</td>\n",
       "      <td>54</td>\n",
       "      <td>неоконченное высшее</td>\n",
       "      <td>2</td>\n",
       "      <td>женат / замужем</td>\n",
       "      <td>0</td>\n",
       "      <td>F</td>\n",
       "      <td>сотрудник</td>\n",
       "      <td>0</td>\n",
       "      <td>130458.228857</td>\n",
       "      <td>приобретение автомобиля</td>\n",
       "    </tr>\n",
       "    <tr>\n",
       "      <th>14</th>\n",
       "      <td>0</td>\n",
       "      <td>-1844.956182</td>\n",
       "      <td>56</td>\n",
       "      <td>высшее</td>\n",
       "      <td>0</td>\n",
       "      <td>гражданский брак</td>\n",
       "      <td>1</td>\n",
       "      <td>F</td>\n",
       "      <td>компаньон</td>\n",
       "      <td>1</td>\n",
       "      <td>165127.911772</td>\n",
       "      <td>покупка жилой недвижимости</td>\n",
       "    </tr>\n",
       "    <tr>\n",
       "      <th>15</th>\n",
       "      <td>1</td>\n",
       "      <td>-972.364419</td>\n",
       "      <td>26</td>\n",
       "      <td>среднее</td>\n",
       "      <td>1</td>\n",
       "      <td>женат / замужем</td>\n",
       "      <td>0</td>\n",
       "      <td>F</td>\n",
       "      <td>сотрудник</td>\n",
       "      <td>0</td>\n",
       "      <td>116820.904450</td>\n",
       "      <td>строительство собственной недвижимости</td>\n",
       "    </tr>\n",
       "    <tr>\n",
       "      <th>16</th>\n",
       "      <td>0</td>\n",
       "      <td>-1719.934226</td>\n",
       "      <td>35</td>\n",
       "      <td>среднее</td>\n",
       "      <td>1</td>\n",
       "      <td>женат / замужем</td>\n",
       "      <td>0</td>\n",
       "      <td>F</td>\n",
       "      <td>сотрудник</td>\n",
       "      <td>0</td>\n",
       "      <td>289202.704229</td>\n",
       "      <td>недвижимость</td>\n",
       "    </tr>\n",
       "    <tr>\n",
       "      <th>17</th>\n",
       "      <td>0</td>\n",
       "      <td>-2369.999720</td>\n",
       "      <td>33</td>\n",
       "      <td>высшее</td>\n",
       "      <td>0</td>\n",
       "      <td>гражданский брак</td>\n",
       "      <td>1</td>\n",
       "      <td>M</td>\n",
       "      <td>сотрудник</td>\n",
       "      <td>0</td>\n",
       "      <td>90410.586745</td>\n",
       "      <td>строительство недвижимости</td>\n",
       "    </tr>\n",
       "    <tr>\n",
       "      <th>18</th>\n",
       "      <td>0</td>\n",
       "      <td>400281.136913</td>\n",
       "      <td>53</td>\n",
       "      <td>среднее</td>\n",
       "      <td>1</td>\n",
       "      <td>вдовец / вдова</td>\n",
       "      <td>2</td>\n",
       "      <td>F</td>\n",
       "      <td>пенсионер</td>\n",
       "      <td>0</td>\n",
       "      <td>56823.777243</td>\n",
       "      <td>на покупку подержанного автомобиля</td>\n",
       "    </tr>\n",
       "    <tr>\n",
       "      <th>19</th>\n",
       "      <td>0</td>\n",
       "      <td>-10038.818549</td>\n",
       "      <td>48</td>\n",
       "      <td>СРЕДНЕЕ</td>\n",
       "      <td>1</td>\n",
       "      <td>в разводе</td>\n",
       "      <td>3</td>\n",
       "      <td>F</td>\n",
       "      <td>сотрудник</td>\n",
       "      <td>0</td>\n",
       "      <td>242831.107982</td>\n",
       "      <td>на покупку своего автомобиля</td>\n",
       "    </tr>\n",
       "  </tbody>\n",
       "</table>\n",
       "</div>"
      ],
      "text/plain": [
       "    children  days_employed  dob_years            education  education_id  \\\n",
       "0          1   -8437.673028         42               высшее             0   \n",
       "1          1   -4024.803754         36              среднее             1   \n",
       "2          0   -5623.422610         33              Среднее             1   \n",
       "3          3   -4124.747207         32              среднее             1   \n",
       "4          0  340266.072047         53              среднее             1   \n",
       "5          0    -926.185831         27               высшее             0   \n",
       "6          0   -2879.202052         43               высшее             0   \n",
       "7          0    -152.779569         50              СРЕДНЕЕ             1   \n",
       "8          2   -6929.865299         35               ВЫСШЕЕ             0   \n",
       "9          0   -2188.756445         41              среднее             1   \n",
       "10         2   -4171.483647         36               высшее             0   \n",
       "11         0    -792.701887         40              среднее             1   \n",
       "12         0            NaN         65              среднее             1   \n",
       "13         0   -1846.641941         54  неоконченное высшее             2   \n",
       "14         0   -1844.956182         56               высшее             0   \n",
       "15         1    -972.364419         26              среднее             1   \n",
       "16         0   -1719.934226         35              среднее             1   \n",
       "17         0   -2369.999720         33               высшее             0   \n",
       "18         0  400281.136913         53              среднее             1   \n",
       "19         0  -10038.818549         48              СРЕДНЕЕ             1   \n",
       "\n",
       "       family_status  family_status_id gender income_type  debt  \\\n",
       "0    женат / замужем                 0      F   сотрудник     0   \n",
       "1    женат / замужем                 0      F   сотрудник     0   \n",
       "2    женат / замужем                 0      M   сотрудник     0   \n",
       "3    женат / замужем                 0      M   сотрудник     0   \n",
       "4   гражданский брак                 1      F   пенсионер     0   \n",
       "5   гражданский брак                 1      M   компаньон     0   \n",
       "6    женат / замужем                 0      F   компаньон     0   \n",
       "7    женат / замужем                 0      M   сотрудник     0   \n",
       "8   гражданский брак                 1      F   сотрудник     0   \n",
       "9    женат / замужем                 0      M   сотрудник     0   \n",
       "10   женат / замужем                 0      M   компаньон     0   \n",
       "11   женат / замужем                 0      F   сотрудник     0   \n",
       "12  гражданский брак                 1      M   пенсионер     0   \n",
       "13   женат / замужем                 0      F   сотрудник     0   \n",
       "14  гражданский брак                 1      F   компаньон     1   \n",
       "15   женат / замужем                 0      F   сотрудник     0   \n",
       "16   женат / замужем                 0      F   сотрудник     0   \n",
       "17  гражданский брак                 1      M   сотрудник     0   \n",
       "18    вдовец / вдова                 2      F   пенсионер     0   \n",
       "19         в разводе                 3      F   сотрудник     0   \n",
       "\n",
       "     total_income                                 purpose  \n",
       "0   253875.639453                           покупка жилья  \n",
       "1   112080.014102                 приобретение автомобиля  \n",
       "2   145885.952297                           покупка жилья  \n",
       "3   267628.550329              дополнительное образование  \n",
       "4   158616.077870                         сыграть свадьбу  \n",
       "5   255763.565419                           покупка жилья  \n",
       "6   240525.971920                       операции с жильем  \n",
       "7   135823.934197                             образование  \n",
       "8    95856.832424                   на проведение свадьбы  \n",
       "9   144425.938277                 покупка жилья для семьи  \n",
       "10  113943.491460                    покупка недвижимости  \n",
       "11   77069.234271       покупка коммерческой недвижимости  \n",
       "12            NaN                         сыграть свадьбу  \n",
       "13  130458.228857                 приобретение автомобиля  \n",
       "14  165127.911772              покупка жилой недвижимости  \n",
       "15  116820.904450  строительство собственной недвижимости  \n",
       "16  289202.704229                            недвижимость  \n",
       "17   90410.586745              строительство недвижимости  \n",
       "18   56823.777243      на покупку подержанного автомобиля  \n",
       "19  242831.107982            на покупку своего автомобиля  "
      ]
     },
     "execution_count": 2,
     "metadata": {},
     "output_type": "execute_result"
    }
   ],
   "source": [
    "data.head(20)"
   ]
  },
  {
   "cell_type": "markdown",
   "id": "0ed8f27f",
   "metadata": {
    "deletable": false,
    "editable": false,
    "id": "0ed8f27f"
   },
   "source": [
    "**Выведем основную информацию о датафрейме с помощью метода `info()`.**"
   ]
  },
  {
   "cell_type": "code",
   "execution_count": 3,
   "id": "ab3f863b",
   "metadata": {
    "deletable": false,
    "id": "ab3f863b",
    "outputId": "15376089-8dad-46c9-b520-c05248d43158"
   },
   "outputs": [
    {
     "name": "stdout",
     "output_type": "stream",
     "text": [
      "<class 'pandas.core.frame.DataFrame'>\n",
      "RangeIndex: 21525 entries, 0 to 21524\n",
      "Data columns (total 12 columns):\n",
      " #   Column            Non-Null Count  Dtype  \n",
      "---  ------            --------------  -----  \n",
      " 0   children          21525 non-null  int64  \n",
      " 1   days_employed     19351 non-null  float64\n",
      " 2   dob_years         21525 non-null  int64  \n",
      " 3   education         21525 non-null  object \n",
      " 4   education_id      21525 non-null  int64  \n",
      " 5   family_status     21525 non-null  object \n",
      " 6   family_status_id  21525 non-null  int64  \n",
      " 7   gender            21525 non-null  object \n",
      " 8   income_type       21525 non-null  object \n",
      " 9   debt              21525 non-null  int64  \n",
      " 10  total_income      19351 non-null  float64\n",
      " 11  purpose           21525 non-null  object \n",
      "dtypes: float64(2), int64(5), object(5)\n",
      "memory usage: 2.0+ MB\n"
     ]
    }
   ],
   "source": [
    "data.info()"
   ]
  },
  {
   "cell_type": "markdown",
   "id": "60e3e22d",
   "metadata": {
    "deletable": false,
    "editable": false,
    "id": "60e3e22d"
   },
   "source": [
    "## Предобработка данных <a class=\"anchor\" id=\"preprocessing\"></a>"
   ]
  },
  {
   "cell_type": "markdown",
   "id": "03dc170c",
   "metadata": {
    "deletable": false,
    "editable": false,
    "id": "03dc170c"
   },
   "source": [
    "### Удаление пропусков <a class=\"anchor\" id=\"drop_na\"></a>"
   ]
  },
  {
   "cell_type": "markdown",
   "id": "a4f54eef",
   "metadata": {
    "deletable": false,
    "editable": false,
    "id": "a4f54eef"
   },
   "source": [
    "**Выведем количество пропущенных значений для каждого столбца.**"
   ]
  },
  {
   "cell_type": "code",
   "execution_count": 4,
   "id": "2dc372b2",
   "metadata": {
    "deletable": false,
    "id": "2dc372b2",
    "outputId": "81f4d817-781c-465c-ed15-91ce4446810d"
   },
   "outputs": [
    {
     "data": {
      "text/plain": [
       "children               0\n",
       "days_employed       2174\n",
       "dob_years              0\n",
       "education              0\n",
       "education_id           0\n",
       "family_status          0\n",
       "family_status_id       0\n",
       "gender                 0\n",
       "income_type            0\n",
       "debt                   0\n",
       "total_income        2174\n",
       "purpose                0\n",
       "dtype: int64"
      ]
     },
     "execution_count": 4,
     "metadata": {},
     "output_type": "execute_result"
    }
   ],
   "source": [
    "data.isna().sum()"
   ]
  },
  {
   "cell_type": "markdown",
   "id": "14f011b1",
   "metadata": {
    "deletable": false,
    "editable": false,
    "id": "14f011b1"
   },
   "source": [
    "**В двух столбцах есть пропущенные значения. Один из них — `days_employed`. Пропуски в этом столбце обработаем на следующем этапе. Другой столбец с пропущенными значениями — `total_income` — хранит данные о доходах. На сумму дохода сильнее всего влияет тип занятости, поэтому заполнить пропуски в этом столбце нужно медианным значением по каждому типу из столбца `income_type`. Например, у человека с типом занятости `сотрудник` пропуск в столбце `total_income` должен быть заполнен медианным доходом среди всех записей с тем же типом.**"
   ]
  },
  {
   "cell_type": "code",
   "execution_count": 5,
   "id": "bdabfb6e",
   "metadata": {
    "deletable": false,
    "id": "bdabfb6e"
   },
   "outputs": [],
   "source": [
    "for t in data['income_type'].unique():\n",
    "    data.loc[(data['income_type'] == t) & (data['total_income'].isna()), 'total_income'] = \\\n",
    "    data.loc[(data['income_type'] == t), 'total_income'].median()"
   ]
  },
  {
   "cell_type": "markdown",
   "id": "5be34059",
   "metadata": {
    "deletable": false,
    "editable": false,
    "id": "5be34059"
   },
   "source": [
    "### Обработка аномальных значений <a class=\"anchor\" id=\"anomal\"></a>"
   ]
  },
  {
   "cell_type": "markdown",
   "id": "a87606cb",
   "metadata": {
    "deletable": false,
    "editable": false,
    "id": "a87606cb"
   },
   "source": [
    "**В данных могут встречаться артефакты (аномалии) — значения, которые не отражают действительность и появились по какой-то ошибке. Таким артефактом будет отрицательное количество дней трудового стажа в столбце `days_employed`. Для реальных данных это нормально. Обработаем значения в этом столбце: заменим все отрицательные значения положительными с помощью метода `abs()`.**"
   ]
  },
  {
   "cell_type": "code",
   "execution_count": 6,
   "id": "020c46cc",
   "metadata": {
    "deletable": false,
    "id": "020c46cc"
   },
   "outputs": [],
   "source": [
    "data['days_employed'] = data['days_employed'].abs()"
   ]
  },
  {
   "cell_type": "markdown",
   "id": "45538a3a",
   "metadata": {
    "deletable": false,
    "editable": false,
    "id": "45538a3a"
   },
   "source": [
    "**Для каждого типа занятости выведем медианное значение трудового стажа `days_employed` в днях.**"
   ]
  },
  {
   "cell_type": "code",
   "execution_count": 7,
   "id": "cd3e6328",
   "metadata": {
    "deletable": false,
    "id": "cd3e6328",
    "outputId": "801ef80e-522b-4668-f34e-565af7432bcf"
   },
   "outputs": [
    {
     "data": {
      "text/plain": [
       "income_type\n",
       "безработный        366413.652744\n",
       "в декрете            3296.759962\n",
       "госслужащий          2689.368353\n",
       "компаньон            1547.382223\n",
       "пенсионер          365213.306266\n",
       "предприниматель       520.848083\n",
       "сотрудник            1574.202821\n",
       "студент               578.751554\n",
       "Name: days_employed, dtype: float64"
      ]
     },
     "execution_count": 7,
     "metadata": {},
     "output_type": "execute_result"
    }
   ],
   "source": [
    "data.groupby('income_type')['days_employed'].agg('median')"
   ]
  },
  {
   "cell_type": "markdown",
   "id": "90c5f058",
   "metadata": {
    "deletable": false,
    "editable": false,
    "id": "90c5f058"
   },
   "source": [
    "У двух типов (безработные и пенсионеры) получатся аномально большие значения. Исправить такие значения сложно, поэтому оставим их как есть."
   ]
  },
  {
   "cell_type": "markdown",
   "id": "9652e50d",
   "metadata": {
    "deletable": false,
    "editable": false,
    "id": "9652e50d"
   },
   "source": [
    "**Выведем перечень уникальных значений столбца `children`.**"
   ]
  },
  {
   "cell_type": "code",
   "execution_count": 8,
   "id": "dbb37b8e",
   "metadata": {
    "deletable": false,
    "id": "dbb37b8e",
    "outputId": "6975b15c-7f95-4697-d16d-a0c79b657b03"
   },
   "outputs": [
    {
     "data": {
      "text/plain": [
       "array([ 1,  0,  3,  2, -1,  4, 20,  5], dtype=int64)"
      ]
     },
     "execution_count": 8,
     "metadata": {},
     "output_type": "execute_result"
    }
   ],
   "source": [
    "data['children'].unique()"
   ]
  },
  {
   "cell_type": "markdown",
   "id": "2b8b0715",
   "metadata": {
    "deletable": false,
    "editable": false,
    "id": "2b8b0715"
   },
   "source": [
    "**В столбце `children` есть два аномальных значения. Удалим строки, в которых встречаются такие аномальные значения из датафрейма `data`.**"
   ]
  },
  {
   "cell_type": "code",
   "execution_count": 9,
   "id": "20009df8",
   "metadata": {
    "deletable": false,
    "id": "20009df8"
   },
   "outputs": [],
   "source": [
    "data = data[(data['children'] != -1) & (data['children'] != 20)]"
   ]
  },
  {
   "cell_type": "markdown",
   "id": "8c6ac9f1",
   "metadata": {
    "deletable": false,
    "editable": false,
    "id": "8c6ac9f1"
   },
   "source": [
    "**Ещё раз выведем перечень уникальных значений столбца `children`, чтобы убедиться, что артефакты удалены.**"
   ]
  },
  {
   "cell_type": "code",
   "execution_count": 10,
   "id": "07337b81",
   "metadata": {
    "deletable": false,
    "id": "07337b81",
    "outputId": "b2097101-d49d-44d9-901b-32a65c9463d1"
   },
   "outputs": [
    {
     "data": {
      "text/plain": [
       "array([1, 0, 3, 2, 4, 5], dtype=int64)"
      ]
     },
     "execution_count": 10,
     "metadata": {},
     "output_type": "execute_result"
    }
   ],
   "source": [
    "data['children'].unique()"
   ]
  },
  {
   "cell_type": "markdown",
   "id": "ee3f52d4",
   "metadata": {
    "deletable": false,
    "editable": false,
    "id": "ee3f52d4"
   },
   "source": [
    "### Удаление пропусков (продолжение) <a class=\"anchor\" id=\"drop_na_continue\"></a>"
   ]
  },
  {
   "cell_type": "markdown",
   "id": "a700b0e4",
   "metadata": {
    "deletable": false,
    "editable": false,
    "id": "a700b0e4"
   },
   "source": [
    "**Заполним пропуски в столбце `days_employed` медианными значениями по каждому типу занятости `income_type`.**"
   ]
  },
  {
   "cell_type": "code",
   "execution_count": 11,
   "id": "61946b83",
   "metadata": {
    "deletable": false,
    "id": "61946b83"
   },
   "outputs": [],
   "source": [
    "for t in data['income_type'].unique():\n",
    "    data.loc[(data['income_type'] == t) & (data['days_employed'].isna()), 'days_employed'] = \\\n",
    "    data.loc[(data['income_type'] == t), 'days_employed'].median()"
   ]
  },
  {
   "cell_type": "markdown",
   "id": "550dcd9b",
   "metadata": {
    "deletable": false,
    "editable": false,
    "id": "550dcd9b"
   },
   "source": [
    "**Убедимся, что все пропуски заполнены. Проверим себя и ещё раз выведем количество пропущенных значений для каждого столбца с помощью двух методов.**"
   ]
  },
  {
   "cell_type": "code",
   "execution_count": 12,
   "id": "937c7014",
   "metadata": {
    "deletable": false,
    "id": "937c7014",
    "outputId": "8da1e4e1-358e-4e87-98c9-f261bce0a7b2"
   },
   "outputs": [
    {
     "data": {
      "text/plain": [
       "children            0\n",
       "days_employed       0\n",
       "dob_years           0\n",
       "education           0\n",
       "education_id        0\n",
       "family_status       0\n",
       "family_status_id    0\n",
       "gender              0\n",
       "income_type         0\n",
       "debt                0\n",
       "total_income        0\n",
       "purpose             0\n",
       "dtype: int64"
      ]
     },
     "execution_count": 12,
     "metadata": {},
     "output_type": "execute_result"
    }
   ],
   "source": [
    "data.isna().sum()"
   ]
  },
  {
   "cell_type": "markdown",
   "id": "d522e295",
   "metadata": {
    "deletable": false,
    "editable": false,
    "id": "d522e295"
   },
   "source": [
    "### Изменение типов данных <a class=\"anchor\" id=\"dtype\"></a>"
   ]
  },
  {
   "cell_type": "markdown",
   "id": "c229c581",
   "metadata": {
    "deletable": false,
    "editable": false,
    "id": "c229c581"
   },
   "source": [
    "**Заменим вещественный тип данных в столбце `total_income` на целочисленный с помощью метода `astype()`.**"
   ]
  },
  {
   "cell_type": "code",
   "execution_count": 13,
   "id": "31036462",
   "metadata": {
    "deletable": false,
    "id": "31036462"
   },
   "outputs": [],
   "source": [
    "data['total_income'] = data['total_income'].astype(int)"
   ]
  },
  {
   "cell_type": "markdown",
   "id": "b8e3d1d9",
   "metadata": {
    "deletable": false,
    "editable": false,
    "id": "b8e3d1d9"
   },
   "source": [
    "### Обработка дубликатов <a class=\"anchor\" id=\"duplicates\"></a>"
   ]
  },
  {
   "cell_type": "markdown",
   "id": "9be53c49",
   "metadata": {
    "deletable": false,
    "editable": false,
    "id": "9be53c49"
   },
   "source": [
    "**Обработаем неявные дубликаты в столбце `education`. В этом столбце есть одни и те же значения, но записанные по-разному: с использованием заглавных и строчных букв. Приведем их к нижнему регистру.**"
   ]
  },
  {
   "cell_type": "code",
   "execution_count": 14,
   "id": "d89e73e1",
   "metadata": {
    "deletable": false,
    "id": "d89e73e1"
   },
   "outputs": [],
   "source": [
    "data['education'] = data['education'].str.lower()"
   ]
  },
  {
   "cell_type": "markdown",
   "id": "01d4500e",
   "metadata": {
    "deletable": false,
    "editable": false,
    "id": "01d4500e"
   },
   "source": [
    "**Выведем на экран количество строк-дубликатов в данных. Если такие строки присутствуют, удалим их.**"
   ]
  },
  {
   "cell_type": "code",
   "execution_count": 15,
   "id": "e10efb23",
   "metadata": {
    "deletable": false,
    "id": "e10efb23",
    "outputId": "9684deba-1934-42d1-99e1-cda61740f822"
   },
   "outputs": [
    {
     "data": {
      "text/plain": [
       "71"
      ]
     },
     "execution_count": 15,
     "metadata": {},
     "output_type": "execute_result"
    }
   ],
   "source": [
    "data.duplicated().sum()"
   ]
  },
  {
   "cell_type": "code",
   "execution_count": 16,
   "id": "df853f20",
   "metadata": {
    "deletable": false,
    "id": "df853f20"
   },
   "outputs": [],
   "source": [
    "data = data.drop_duplicates()"
   ]
  },
  {
   "cell_type": "markdown",
   "id": "627be38f",
   "metadata": {
    "deletable": false,
    "editable": false,
    "id": "627be38f"
   },
   "source": [
    "### Категоризация данных <a class=\"anchor\" id=\"category\"></a>"
   ]
  },
  {
   "cell_type": "markdown",
   "id": "4684c3e0",
   "metadata": {
    "deletable": false,
    "editable": false,
    "id": "4684c3e0"
   },
   "source": [
    "**На основании диапазонов, указанных ниже, создадим в датафрейме `data` столбец `total_income_category` с категориями:**\n",
    "\n",
    "- 0–30000 — `'E'`;\n",
    "- 30001–50000 — `'D'`;\n",
    "- 50001–200000 — `'C'`;\n",
    "- 200001–1000000 — `'B'`;\n",
    "- 1000001 и выше — `'A'`.\n",
    "\n",
    "\n",
    "**Например, кредитополучателю с доходом 25000 нужно назначить категорию `'E'`, а клиенту, получающему 235000, — `'B'`. Используем собственную функцию с именем `categorize_income()` и метод `apply()`.**"
   ]
  },
  {
   "cell_type": "code",
   "execution_count": 17,
   "id": "78965238",
   "metadata": {
    "deletable": false,
    "id": "78965238"
   },
   "outputs": [],
   "source": [
    "def categorize_income(income):\n",
    "    try:\n",
    "        if 0 <= income <= 30000:\n",
    "            return 'E'\n",
    "        elif 30001 <= income <= 50000:\n",
    "            return 'D'\n",
    "        elif 50001 <= income <= 200000:\n",
    "            return 'C'\n",
    "        elif 200001 <= income <= 1000000:\n",
    "            return 'B'\n",
    "        elif income >= 1000001:\n",
    "            return 'A'\n",
    "    except:\n",
    "        pass"
   ]
  },
  {
   "cell_type": "code",
   "execution_count": 18,
   "id": "0980ada1",
   "metadata": {
    "deletable": false,
    "id": "0980ada1"
   },
   "outputs": [],
   "source": [
    "data['total_income_category'] = data['total_income'].apply(categorize_income)"
   ]
  },
  {
   "cell_type": "markdown",
   "id": "9917bba0",
   "metadata": {
    "deletable": false,
    "editable": false,
    "id": "9917bba0"
   },
   "source": [
    "**Выведем на экран перечень уникальных целей взятия кредита из столбца `purpose`.**"
   ]
  },
  {
   "cell_type": "code",
   "execution_count": 19,
   "id": "ee07b65e",
   "metadata": {
    "deletable": false,
    "id": "ee07b65e",
    "outputId": "673c12d9-7d7e-4ae0-9812-c622c89dd244"
   },
   "outputs": [
    {
     "data": {
      "text/plain": [
       "array(['покупка жилья', 'приобретение автомобиля',\n",
       "       'дополнительное образование', 'сыграть свадьбу',\n",
       "       'операции с жильем', 'образование', 'на проведение свадьбы',\n",
       "       'покупка жилья для семьи', 'покупка недвижимости',\n",
       "       'покупка коммерческой недвижимости', 'покупка жилой недвижимости',\n",
       "       'строительство собственной недвижимости', 'недвижимость',\n",
       "       'строительство недвижимости', 'на покупку подержанного автомобиля',\n",
       "       'на покупку своего автомобиля',\n",
       "       'операции с коммерческой недвижимостью',\n",
       "       'строительство жилой недвижимости', 'жилье',\n",
       "       'операции со своей недвижимостью', 'автомобили',\n",
       "       'заняться образованием', 'сделка с подержанным автомобилем',\n",
       "       'получение образования', 'автомобиль', 'свадьба',\n",
       "       'получение дополнительного образования', 'покупка своего жилья',\n",
       "       'операции с недвижимостью', 'получение высшего образования',\n",
       "       'свой автомобиль', 'сделка с автомобилем',\n",
       "       'профильное образование', 'высшее образование',\n",
       "       'покупка жилья для сдачи', 'на покупку автомобиля', 'ремонт жилью',\n",
       "       'заняться высшим образованием'], dtype=object)"
      ]
     },
     "execution_count": 19,
     "metadata": {},
     "output_type": "execute_result"
    }
   ],
   "source": [
    "data['purpose'].unique()"
   ]
  },
  {
   "cell_type": "markdown",
   "id": "52b79d56",
   "metadata": {
    "deletable": false,
    "editable": false,
    "id": "52b79d56"
   },
   "source": [
    "**Создадим функцию, которая на основании данных из столбца `purpose` сформирует новый столбец `purpose_category`, в который войдут следующие категории:**\n",
    "\n",
    "- `'операции с автомобилем'`,\n",
    "- `'операции с недвижимостью'`,\n",
    "- `'проведение свадьбы'`,\n",
    "- `'получение образования'`.\n",
    "\n",
    "**Например, если в столбце `purpose` находится подстрока `'на покупку автомобиля'`, то в столбце `purpose_category` должна появиться строка `'операции с автомобилем'`.**\n",
    "\n",
    "**Используем собственную функцию с именем `categorize_purpose()` и метод `apply()`. Изучим данные в столбце `purpose` и определим, какие подстроки помогут правильно определить категорию.**"
   ]
  },
  {
   "cell_type": "code",
   "execution_count": 20,
   "id": "be41da5d",
   "metadata": {
    "deletable": false,
    "id": "be41da5d"
   },
   "outputs": [],
   "source": [
    "def categorize_purpose(row):\n",
    "    try:\n",
    "        if 'автом' in row:\n",
    "            return 'операции с автомобилем'\n",
    "        elif 'жил' in row or 'недвиж' in row:\n",
    "            return 'операции с недвижимостью'\n",
    "        elif 'свад' in row:\n",
    "            return 'проведение свадьбы'\n",
    "        elif 'образов' in row:\n",
    "            return 'получение образования'\n",
    "    except:\n",
    "        return 'нет категории'"
   ]
  },
  {
   "cell_type": "code",
   "execution_count": 21,
   "id": "94c4a19a",
   "metadata": {
    "deletable": false,
    "id": "94c4a19a"
   },
   "outputs": [],
   "source": [
    "data['purpose_category'] = data['purpose'].apply(categorize_purpose)"
   ]
  },
  {
   "cell_type": "markdown",
   "id": "3d596c34",
   "metadata": {
    "deletable": false,
    "editable": false,
    "id": "3d596c34"
   },
   "source": [
    "### Шаг 3. Исследуем данные и ответим на вопросы <a class=\"anchor\" id=\"research\"></a>"
   ]
  },
  {
   "cell_type": "markdown",
   "id": "648db036",
   "metadata": {
    "deletable": false,
    "editable": false,
    "id": "648db036"
   },
   "source": [
    "#### 3.1 Есть ли зависимость между количеством детей и возвратом кредита в срок? <a class=\"anchor\" id=\"children\"></a>"
   ]
  },
  {
   "cell_type": "markdown",
   "id": "45fe95c7",
   "metadata": {},
   "source": [
    "Проанализируем суммарное количество должников в зависимости от количества детей у человека."
   ]
  },
  {
   "cell_type": "code",
   "execution_count": 22,
   "id": "7fcff25e",
   "metadata": {
    "deletable": false,
    "id": "7fcff25e",
    "scrolled": true
   },
   "outputs": [
    {
     "data": {
      "text/plain": [
       "children\n",
       "0    1063\n",
       "1     444\n",
       "2     194\n",
       "3      27\n",
       "4       4\n",
       "5       0\n",
       "Name: debt, dtype: int64"
      ]
     },
     "execution_count": 22,
     "metadata": {},
     "output_type": "execute_result"
    }
   ],
   "source": [
    "data.groupby('children')['debt'].agg(sum)"
   ]
  },
  {
   "cell_type": "markdown",
   "id": "95734b99",
   "metadata": {},
   "source": [
    "Видна четкая отрицательная корреляция между количеством детей и количеством должников. Но могла сложиться такая ситуация, что общее количество кредитов, взятых каждой категорией клиентов, различно. \n",
    "\n",
    "Проанализируем % долгов от суммарного количества кредитов, взятых конкретной категорией клиентов."
   ]
  },
  {
   "cell_type": "markdown",
   "id": "df1f6dfc",
   "metadata": {},
   "source": [
    "Напишем функцию, позволяющую на основе абсолютных значений количества должников в каждой категории находить их долю в % от суммарного количества кредитов, взятых конкретной категорией клиентов."
   ]
  },
  {
   "cell_type": "code",
   "execution_count": 23,
   "id": "10f05611",
   "metadata": {},
   "outputs": [],
   "source": [
    "def debt_share_per_category(series, feature):\n",
    "    for index in series.index:\n",
    "        series[index] = series[index] / len(data[data[feature] == index]) * 100\n",
    "        series[index] = f'{series[index]:.{3}f}'\n",
    "    return series.sort_values(ascending=False)"
   ]
  },
  {
   "cell_type": "markdown",
   "id": "04970837",
   "metadata": {},
   "source": [
    "Применим функцию `debt_share_per_category`, чтобы найти долю должников в % от суммарного количества кредитов, взятых конкретной категорией клиентов по числу детей у них."
   ]
  },
  {
   "cell_type": "code",
   "execution_count": 24,
   "id": "c18bf162",
   "metadata": {},
   "outputs": [
    {
     "data": {
      "text/plain": [
       "children\n",
       "4    9.756\n",
       "2    9.454\n",
       "1    9.235\n",
       "3    8.182\n",
       "0    7.544\n",
       "5    0.000\n",
       "Name: debt, dtype: object"
      ]
     },
     "execution_count": 24,
     "metadata": {},
     "output_type": "execute_result"
    }
   ],
   "source": [
    "debt_share_per_category(data.groupby('children')['debt'].agg(sum), 'children')"
   ]
  },
  {
   "cell_type": "markdown",
   "id": "83724e4b",
   "metadata": {},
   "source": [
    "Видим, что наиболее ненадежными являются клиенты, имеющие 4 детей (9.756% не возвращают деньги в срок). Также складывается впечатление, что клиенты с 5 детьми являются самыми надежными. Но таких людей может быть банально меньшинство, поэтому проанализируем размеры сравниваемых групп."
   ]
  },
  {
   "cell_type": "code",
   "execution_count": 25,
   "id": "71039f97",
   "metadata": {},
   "outputs": [
    {
     "data": {
      "text/plain": [
       "children\n",
       "0    14091\n",
       "1     4808\n",
       "2     2052\n",
       "3      330\n",
       "4       41\n",
       "5        9\n",
       "Name: count, dtype: int64"
      ]
     },
     "execution_count": 25,
     "metadata": {},
     "output_type": "execute_result"
    }
   ],
   "source": [
    "data['children'].value_counts()"
   ]
  },
  {
   "cell_type": "markdown",
   "id": "d1be5d7a",
   "metadata": {},
   "source": [
    "Можно заметить, что клиентов с 3 - 5 детьми меньше 5% от общего числа заемщиков. По этой причине не стоит говорить о каких-то зависимостях в этих категориях."
   ]
  },
  {
   "cell_type": "markdown",
   "id": "87d2d7e4",
   "metadata": {
    "deletable": false,
    "id": "2eb9088e"
   },
   "source": [
    "**Вывод:** Видно, что наиболее надежными являются клиенты, у которых нет детей (7.000% невозвратов в срок). Самыми ненадежными оказались клиенты с 2 детьми (9.454% невозвратов в срок)."
   ]
  },
  {
   "cell_type": "markdown",
   "id": "74c9b3a7",
   "metadata": {
    "deletable": false,
    "editable": false,
    "id": "74c9b3a7"
   },
   "source": [
    "#### 3.2 Есть ли зависимость между семейным положением и возвратом кредита в срок? <a class=\"anchor\" id=\"family\"></a>"
   ]
  },
  {
   "cell_type": "markdown",
   "id": "9dbaa4fc",
   "metadata": {},
   "source": [
    "Проанализируем количество должников в зависимости от семейного положения."
   ]
  },
  {
   "cell_type": "code",
   "execution_count": 26,
   "id": "8098ab3b",
   "metadata": {
    "deletable": false,
    "id": "8098ab3b",
    "scrolled": true
   },
   "outputs": [
    {
     "data": {
      "text/plain": [
       "family_status\n",
       "Не женат / не замужем    273\n",
       "в разводе                 84\n",
       "вдовец / вдова            63\n",
       "гражданский брак         385\n",
       "женат / замужем          927\n",
       "Name: debt, dtype: int64"
      ]
     },
     "execution_count": 26,
     "metadata": {},
     "output_type": "execute_result"
    }
   ],
   "source": [
    "data.groupby('family_status')['debt'].agg(sum)"
   ]
  },
  {
   "cell_type": "markdown",
   "id": "fdecbb5d",
   "metadata": {},
   "source": [
    "Больше половины должников приходится на тех, кто зарегистрировал свои отношения. Еще около четверти - люди, находящиеся в гражданском браке. Но может быть и так, что эти категории клиентов просто берут больше кредитов, чем другие. Нужно проанализировать % долгов от общего числа кредитов, взятых конкретной категорией людей."
   ]
  },
  {
   "cell_type": "code",
   "execution_count": 27,
   "id": "fa5ebb1c",
   "metadata": {},
   "outputs": [
    {
     "data": {
      "text/plain": [
       "family_status\n",
       "Не женат / не замужем    9.764\n",
       "гражданский брак         9.313\n",
       "женат / замужем          7.561\n",
       "в разводе                7.065\n",
       "вдовец / вдова           6.625\n",
       "Name: debt, dtype: object"
      ]
     },
     "execution_count": 27,
     "metadata": {},
     "output_type": "execute_result"
    }
   ],
   "source": [
    "debt_share_per_category(data.groupby('family_status')['debt'].agg(sum), 'family_status')"
   ]
  },
  {
   "cell_type": "markdown",
   "id": "94265d2c",
   "metadata": {},
   "source": [
    "При более тщательном анализе ситуация изменилась. Наиболее ненадежными являются клиенты, состоящие в гражданском браке, и те, кто не женат/не замужем. Наименьший % должников характерен для вдовцов и вдов.\n",
    "\n",
    "Проанализируем размеры рассматриваемых категорий клиентов."
   ]
  },
  {
   "cell_type": "code",
   "execution_count": 28,
   "id": "55344c66",
   "metadata": {},
   "outputs": [
    {
     "data": {
      "text/plain": [
       "family_status\n",
       "женат / замужем          12261\n",
       "гражданский брак          4134\n",
       "Не женат / не замужем     2796\n",
       "в разводе                 1189\n",
       "вдовец / вдова             951\n",
       "Name: count, dtype: int64"
      ]
     },
     "execution_count": 28,
     "metadata": {},
     "output_type": "execute_result"
    }
   ],
   "source": [
    "data['family_status'].value_counts().sort_values(ascending=False)"
   ]
  },
  {
   "cell_type": "markdown",
   "id": "c389ca63",
   "metadata": {
    "deletable": false,
    "id": "c389ca63"
   },
   "source": [
    "**Вывод:** Наиболее ненадежными являются клиенты, состоящие в гражданском браке (9.313% невозвратов), и те, кто не женат/не замужем (9.000%). Наименьший % должников характерен для вдовцов и вдов (6.625% невозвратов)."
   ]
  },
  {
   "cell_type": "markdown",
   "id": "9529de68",
   "metadata": {
    "deletable": false,
    "editable": false,
    "id": "9529de68"
   },
   "source": [
    "#### 3.3 Есть ли зависимость между уровнем дохода и возвратом кредита в срок? <a class=\"anchor\" id=\"income\"></a>"
   ]
  },
  {
   "cell_type": "markdown",
   "id": "ad98f639",
   "metadata": {},
   "source": [
    "Проанализируем количество должников в зависимости от группы по уровню дохода."
   ]
  },
  {
   "cell_type": "code",
   "execution_count": 29,
   "id": "8787f44a",
   "metadata": {
    "deletable": false,
    "id": "8787f44a"
   },
   "outputs": [
    {
     "data": {
      "text/plain": [
       "total_income_category\n",
       "C    1353\n",
       "B     354\n",
       "D      21\n",
       "A       2\n",
       "E       2\n",
       "Name: debt, dtype: int64"
      ]
     },
     "execution_count": 29,
     "metadata": {},
     "output_type": "execute_result"
    }
   ],
   "source": [
    "data.groupby('total_income_category')['debt'].agg(sum).sort_values(ascending=False)"
   ]
  },
  {
   "cell_type": "markdown",
   "id": "a7a86820",
   "metadata": {},
   "source": [
    "Видно, что наибольшее количество долгов приходится на людей с уровнем дохода от 50 до 200 тыс. руб. Но, возможно, они просто чаще других берут кредит. Проанализируем % долгов от общего количества кредитов, взятых людьми с конкретным достатком.  "
   ]
  },
  {
   "cell_type": "code",
   "execution_count": 30,
   "id": "02a4df98",
   "metadata": {},
   "outputs": [
    {
     "data": {
      "text/plain": [
       "total_income_category\n",
       "E    9.091\n",
       "C    8.498\n",
       "A    8.000\n",
       "B    7.060\n",
       "D    6.017\n",
       "Name: debt, dtype: object"
      ]
     },
     "execution_count": 30,
     "metadata": {},
     "output_type": "execute_result"
    }
   ],
   "source": [
    "debt_share_per_category(data.groupby('total_income_category')['debt'].agg(sum), 'total_income_category')"
   ]
  },
  {
   "cell_type": "markdown",
   "id": "d1dba71e",
   "metadata": {},
   "source": [
    "Теперь видим, что наибольшее количество должников приходится на клиентов с самым низким уровнем дохода: ниже 30 тыс. руб. (9.091% невозвратов). Наиболее надежными оказались клиенты с достатком от 30 до 50 тыс. руб. (6.017% невозвратов).\n",
    "\n",
    "Оценим размеры сравниваемых групп."
   ]
  },
  {
   "cell_type": "code",
   "execution_count": 31,
   "id": "62fe4346",
   "metadata": {},
   "outputs": [
    {
     "data": {
      "text/plain": [
       "total_income_category\n",
       "C    15921\n",
       "B     5014\n",
       "D      349\n",
       "A       25\n",
       "E       22\n",
       "Name: count, dtype: int64"
      ]
     },
     "execution_count": 31,
     "metadata": {},
     "output_type": "execute_result"
    }
   ],
   "source": [
    "data['total_income_category'].value_counts().sort_values(ascending=False)"
   ]
  },
  {
   "cell_type": "markdown",
   "id": "98ba51f3",
   "metadata": {},
   "source": [
    "Видно, что клиентов с доходом от 30 до 50 тыс. руб. абсолютное меньшинство, ровно как и самых богатых."
   ]
  },
  {
   "cell_type": "markdown",
   "id": "6dd14b57",
   "metadata": {
    "deletable": false,
    "id": "6dd14b57"
   },
   "source": [
    "**Вывод:** Наименее надежными являются клиенты с доходом от 50 до 200 тыс. руб. (8.498% невозвратов). Наиболее надежны те, кто располагает доходом 200 тыс. руб. - 1 млн руб. (7.060% невозвратов)."
   ]
  },
  {
   "cell_type": "markdown",
   "id": "1dcc9b12",
   "metadata": {
    "deletable": false,
    "editable": false,
    "id": "1dcc9b12"
   },
   "source": [
    "#### 3.4 Как разные цели кредита влияют на его возврат в срок? <a class=\"anchor\" id=\"purpose\"></a>"
   ]
  },
  {
   "cell_type": "markdown",
   "id": "58b2c09e",
   "metadata": {},
   "source": [
    "Посмотрим количество долгов в зависимости от цели взятия кредита."
   ]
  },
  {
   "cell_type": "code",
   "execution_count": 32,
   "id": "c602bc8b",
   "metadata": {
    "deletable": false,
    "id": "c602bc8b"
   },
   "outputs": [
    {
     "data": {
      "text/plain": [
       "purpose_category\n",
       "операции с недвижимостью    780\n",
       "операции с автомобилем      400\n",
       "получение образования       369\n",
       "проведение свадьбы          183\n",
       "Name: debt, dtype: int64"
      ]
     },
     "execution_count": 32,
     "metadata": {},
     "output_type": "execute_result"
    }
   ],
   "source": [
    "data.groupby('purpose_category')['debt'].agg(sum).sort_values(ascending=False)"
   ]
  },
  {
   "cell_type": "markdown",
   "id": "17971329",
   "metadata": {},
   "source": [
    "Видно, что люди, которые берут кредит на недвижимость, чаще всего не возвращают деньги в срок. Но может быть и такое, что кредиты на недвижимость просто чаще берут, поэтому и % должников от общего количества долгов наибольший.\n",
    "\n",
    "Теперь посмотрим % долгов от общего количества кредитов, взятых для конкретной цели."
   ]
  },
  {
   "cell_type": "code",
   "execution_count": 33,
   "id": "d7916338",
   "metadata": {},
   "outputs": [
    {
     "data": {
      "text/plain": [
       "purpose_category\n",
       "операции с автомобилем      9.348\n",
       "получение образования       9.253\n",
       "проведение свадьбы          7.912\n",
       "операции с недвижимостью    7.255\n",
       "Name: debt, dtype: object"
      ]
     },
     "execution_count": 33,
     "metadata": {},
     "output_type": "execute_result"
    }
   ],
   "source": [
    "debt_share_per_category(data.groupby('purpose_category')['debt'].agg(sum), 'purpose_category')"
   ]
  },
  {
   "cell_type": "markdown",
   "id": "951411fe",
   "metadata": {},
   "source": [
    "Люди, которые берут кредит на операции с автомобилем или образование, чаще всего не возвращают деньги в срок.\n",
    "\n",
    "Оценим размеры исследуемых категорий."
   ]
  },
  {
   "cell_type": "code",
   "execution_count": 34,
   "id": "5f0d6089",
   "metadata": {},
   "outputs": [
    {
     "data": {
      "text/plain": [
       "purpose_category\n",
       "операции с недвижимостью    10751\n",
       "операции с автомобилем       4279\n",
       "получение образования        3988\n",
       "проведение свадьбы           2313\n",
       "Name: count, dtype: int64"
      ]
     },
     "execution_count": 34,
     "metadata": {},
     "output_type": "execute_result"
    }
   ],
   "source": [
    "data['purpose_category'].value_counts().sort_values(ascending=False)"
   ]
  },
  {
   "cell_type": "markdown",
   "id": "cf05ed63",
   "metadata": {
    "deletable": false,
    "id": "cf05ed63"
   },
   "source": [
    "**Вывод:** Люди, которые берут кредит на операции с автомобилем или образование, действительно, чаще всего не возвращают деньги в срок: 9.000% и 9.253% невозвратов, соответственно. "
   ]
  },
  {
   "cell_type": "markdown",
   "id": "46c1f10b",
   "metadata": {
    "deletable": false,
    "editable": false,
    "id": "46c1f10b"
   },
   "source": [
    "#### 3.5 Приведем возможные причины появления пропусков в исходных данных. <a class=\"anchor\" id=\"missing_values_reason\"></a>"
   ]
  },
  {
   "cell_type": "markdown",
   "id": "3697d2a9",
   "metadata": {
    "deletable": false,
    "id": "3697d2a9"
   },
   "source": [
    "*Ответ:* \n",
    "Пропуски могли возникнуть случайно, так как кредит вряд ли пердоставили бы без информации о трудовом стаже и уровне дохода."
   ]
  },
  {
   "cell_type": "markdown",
   "id": "3137d257",
   "metadata": {
    "deletable": false,
    "editable": false,
    "id": "3137d257"
   },
   "source": [
    "#### 3.6 Объясним, почему заполнить пропуски медианным значением — лучшее решение для количественных переменных."
   ]
  },
  {
   "cell_type": "markdown",
   "id": "cf40012a",
   "metadata": {
    "deletable": false,
    "id": "cf40012a"
   },
   "source": [
    "*Ответ:* На медианное значение практически не влияют выбросы в данных (неожиданно большие или малые величины). При использовании среднего арифметического колоссальное влияние будут оказывать выбросы, завышающие или занижающие результат."
   ]
  },
  {
   "cell_type": "markdown",
   "id": "57bc304e",
   "metadata": {
    "deletable": false,
    "editable": false,
    "id": "57bc304e"
   },
   "source": [
    "### Шаг 4: общий вывод. <a class=\"anchor\" id=\"conclusion\"></a>"
   ]
  },
  {
   "cell_type": "markdown",
   "id": "1ab75d1c",
   "metadata": {
    "deletable": false,
    "id": "1ab75d1c"
   },
   "source": [
    "Сопоставляя влияние различных факторов на возврат кредита в срок, выделены следующие тренды:\n",
    "* Наиболее надежными являются клиенты, у которых нет детей (7.000% невозвратов в срок). Самыми ненадежными оказались клиенты с 2 детьми (9.454% невозвратов в срок).\n",
    "* Семейное положение также оказывает влияние на своевременную уплату кредита. Наиболее ненадежными являются клиенты, состоящие в гражданском браке (9.313% невозвратов), и те, кто не женат/не замужем (9.000% невозвратов). Наименьший % должников характерен для вдовцов и вдов (6.625% невозвратов).\n",
    "* Наименее надежными являются клиенты с доходом от 50 до 200 тыс. руб. (8.498% невозвратов). Наиболее надежны те, кто располагает доходом 200 тыс. руб. - 1 млн руб. (7.060% невозвратов).\n",
    "* Люди, которые берут кредит на операции с автомобилем или образование, чаще всего не возвращают деньги в срок: 9.000% и 9.253% невозвратов, соответственно."
   ]
  }
 ],
 "metadata": {
  "ExecuteTimeLog": [
   {
    "duration": 49,
    "start_time": "2024-07-17T10:34:14.478Z"
   },
   {
    "duration": 426,
    "start_time": "2024-07-17T10:34:26.945Z"
   },
   {
    "duration": 28,
    "start_time": "2024-07-17T10:34:31.055Z"
   },
   {
    "duration": 17,
    "start_time": "2024-07-17T10:34:35.020Z"
   },
   {
    "duration": 11,
    "start_time": "2024-07-17T10:34:39.293Z"
   },
   {
    "duration": 35,
    "start_time": "2024-07-17T10:34:43.528Z"
   },
   {
    "duration": 3,
    "start_time": "2024-07-17T10:34:46.577Z"
   },
   {
    "duration": 8,
    "start_time": "2024-07-17T10:34:49.263Z"
   },
   {
    "duration": 5,
    "start_time": "2024-07-17T10:35:04.870Z"
   },
   {
    "duration": 7,
    "start_time": "2024-07-17T10:35:07.875Z"
   },
   {
    "duration": 5,
    "start_time": "2024-07-17T10:35:10.348Z"
   },
   {
    "duration": 35,
    "start_time": "2024-07-17T10:35:13.941Z"
   },
   {
    "duration": 11,
    "start_time": "2024-07-17T10:35:16.378Z"
   },
   {
    "duration": 4,
    "start_time": "2024-07-17T10:35:20.844Z"
   },
   {
    "duration": 12,
    "start_time": "2024-07-17T10:35:24.415Z"
   },
   {
    "duration": 20,
    "start_time": "2024-07-17T10:35:26.861Z"
   },
   {
    "duration": 17,
    "start_time": "2024-07-17T10:35:29.549Z"
   },
   {
    "duration": 3,
    "start_time": "2024-07-17T10:35:33.192Z"
   },
   {
    "duration": 11,
    "start_time": "2024-07-17T10:35:36.233Z"
   },
   {
    "duration": 5,
    "start_time": "2024-07-17T10:35:38.933Z"
   },
   {
    "duration": 4,
    "start_time": "2024-07-17T10:35:43.164Z"
   },
   {
    "duration": 13,
    "start_time": "2024-07-17T10:35:45.882Z"
   },
   {
    "duration": 9,
    "start_time": "2024-07-17T11:02:16.917Z"
   },
   {
    "duration": 7,
    "start_time": "2024-07-17T11:05:06.218Z"
   },
   {
    "duration": 54,
    "start_time": "2024-07-17T11:15:55.140Z"
   },
   {
    "duration": 11,
    "start_time": "2024-07-17T11:16:04.260Z"
   },
   {
    "duration": 34,
    "start_time": "2024-07-17T11:23:34.939Z"
   },
   {
    "duration": 12,
    "start_time": "2024-07-17T11:24:08.581Z"
   },
   {
    "duration": 22,
    "start_time": "2024-07-17T11:27:49.453Z"
   },
   {
    "duration": 13,
    "start_time": "2024-07-17T11:34:08.038Z"
   },
   {
    "duration": 16,
    "start_time": "2024-07-17T11:34:31.682Z"
   },
   {
    "duration": 19,
    "start_time": "2024-07-17T11:34:58.059Z"
   },
   {
    "duration": 9,
    "start_time": "2024-07-17T11:36:58.077Z"
   },
   {
    "duration": 7,
    "start_time": "2024-07-17T11:38:15.388Z"
   },
   {
    "duration": 11,
    "start_time": "2024-07-17T11:44:39.384Z"
   },
   {
    "duration": 9,
    "start_time": "2024-07-17T11:46:24.667Z"
   },
   {
    "duration": 7,
    "start_time": "2024-07-17T11:54:28.969Z"
   },
   {
    "duration": 9,
    "start_time": "2024-07-17T12:02:54.616Z"
   },
   {
    "duration": 8,
    "start_time": "2024-07-17T12:11:51.171Z"
   },
   {
    "duration": 9,
    "start_time": "2024-07-17T12:12:07.414Z"
   },
   {
    "duration": 9,
    "start_time": "2024-07-17T12:19:09.515Z"
   },
   {
    "duration": 761,
    "start_time": "2024-07-17T12:21:21.224Z"
   },
   {
    "duration": 11,
    "start_time": "2024-07-17T12:22:26.958Z"
   },
   {
    "duration": 758,
    "start_time": "2024-07-17T12:23:04.531Z"
   },
   {
    "duration": 896,
    "start_time": "2024-07-17T12:24:15.737Z"
   },
   {
    "duration": 41,
    "start_time": "2024-07-17T12:24:48.657Z"
   },
   {
    "duration": 39,
    "start_time": "2024-07-17T12:32:50.377Z"
   },
   {
    "duration": 37,
    "start_time": "2024-07-17T12:34:34.544Z"
   },
   {
    "duration": 9,
    "start_time": "2024-07-17T12:34:49.293Z"
   },
   {
    "duration": 8,
    "start_time": "2024-07-17T12:35:26.725Z"
   },
   {
    "duration": 18,
    "start_time": "2024-07-17T12:37:11.177Z"
   },
   {
    "duration": 23,
    "start_time": "2024-07-17T13:50:27.809Z"
   },
   {
    "duration": 26,
    "start_time": "2024-07-17T13:56:10.283Z"
   },
   {
    "duration": 13,
    "start_time": "2024-07-17T14:00:05.935Z"
   },
   {
    "duration": 509,
    "start_time": "2024-07-18T09:07:07.498Z"
   },
   {
    "duration": 24,
    "start_time": "2024-07-18T09:07:08.009Z"
   },
   {
    "duration": 17,
    "start_time": "2024-07-18T09:07:08.035Z"
   },
   {
    "duration": 11,
    "start_time": "2024-07-18T09:07:08.055Z"
   },
   {
    "duration": 67,
    "start_time": "2024-07-18T09:07:08.068Z"
   },
   {
    "duration": 4,
    "start_time": "2024-07-18T09:07:08.137Z"
   },
   {
    "duration": 8,
    "start_time": "2024-07-18T09:07:08.142Z"
   },
   {
    "duration": 4,
    "start_time": "2024-07-18T09:07:08.152Z"
   },
   {
    "duration": 19,
    "start_time": "2024-07-18T09:07:08.158Z"
   },
   {
    "duration": 6,
    "start_time": "2024-07-18T09:07:08.181Z"
   },
   {
    "duration": 56,
    "start_time": "2024-07-18T09:07:08.189Z"
   },
   {
    "duration": 13,
    "start_time": "2024-07-18T09:07:08.246Z"
   },
   {
    "duration": 4,
    "start_time": "2024-07-18T09:07:08.260Z"
   },
   {
    "duration": 16,
    "start_time": "2024-07-18T09:07:08.266Z"
   },
   {
    "duration": 42,
    "start_time": "2024-07-18T09:07:08.284Z"
   },
   {
    "duration": 19,
    "start_time": "2024-07-18T09:07:08.328Z"
   },
   {
    "duration": 5,
    "start_time": "2024-07-18T09:07:08.348Z"
   },
   {
    "duration": 11,
    "start_time": "2024-07-18T09:07:08.355Z"
   },
   {
    "duration": 8,
    "start_time": "2024-07-18T09:07:08.368Z"
   },
   {
    "duration": 5,
    "start_time": "2024-07-18T09:07:08.408Z"
   },
   {
    "duration": 9,
    "start_time": "2024-07-18T09:07:08.415Z"
   },
   {
    "duration": 7,
    "start_time": "2024-07-18T09:07:08.426Z"
   },
   {
    "duration": 16,
    "start_time": "2024-07-18T09:07:08.435Z"
   },
   {
    "duration": 9,
    "start_time": "2024-07-18T09:07:08.453Z"
   },
   {
    "duration": 58,
    "start_time": "2024-07-18T09:07:08.464Z"
   },
   {
    "duration": 9,
    "start_time": "2024-07-18T09:07:08.524Z"
   },
   {
    "duration": 20,
    "start_time": "2024-07-18T09:07:08.535Z"
   },
   {
    "duration": 8,
    "start_time": "2024-07-18T09:07:08.559Z"
   },
   {
    "duration": 54,
    "start_time": "2024-07-18T09:07:08.568Z"
   },
   {
    "duration": 8,
    "start_time": "2024-07-18T13:51:24.270Z"
   },
   {
    "duration": 41,
    "start_time": "2024-07-18T13:52:53.587Z"
   },
   {
    "duration": 519,
    "start_time": "2024-07-18T13:53:07.598Z"
   },
   {
    "duration": 20,
    "start_time": "2024-07-18T13:53:10.668Z"
   },
   {
    "duration": 13,
    "start_time": "2024-07-18T13:53:14.848Z"
   },
   {
    "duration": 9,
    "start_time": "2024-07-18T13:53:17.948Z"
   },
   {
    "duration": 35,
    "start_time": "2024-07-18T13:53:21.804Z"
   },
   {
    "duration": 3,
    "start_time": "2024-07-18T13:53:26.738Z"
   },
   {
    "duration": 7,
    "start_time": "2024-07-18T13:53:29.408Z"
   },
   {
    "duration": 4,
    "start_time": "2024-07-18T13:53:32.387Z"
   },
   {
    "duration": 7,
    "start_time": "2024-07-18T13:53:35.119Z"
   },
   {
    "duration": 4,
    "start_time": "2024-07-18T13:53:37.137Z"
   },
   {
    "duration": 29,
    "start_time": "2024-07-18T13:53:40.162Z"
   },
   {
    "duration": 8,
    "start_time": "2024-07-18T13:53:42.382Z"
   },
   {
    "duration": 4,
    "start_time": "2024-07-18T13:53:46.106Z"
   },
   {
    "duration": 11,
    "start_time": "2024-07-18T13:53:49.252Z"
   },
   {
    "duration": 18,
    "start_time": "2024-07-18T13:53:51.279Z"
   },
   {
    "duration": 17,
    "start_time": "2024-07-18T13:53:53.477Z"
   },
   {
    "duration": 3,
    "start_time": "2024-07-18T13:53:58.072Z"
   },
   {
    "duration": 10,
    "start_time": "2024-07-18T13:54:00.587Z"
   },
   {
    "duration": 6,
    "start_time": "2024-07-18T13:54:02.839Z"
   },
   {
    "duration": 4,
    "start_time": "2024-07-18T13:54:11.546Z"
   },
   {
    "duration": 8,
    "start_time": "2024-07-18T13:54:13.968Z"
   },
   {
    "duration": 6,
    "start_time": "2024-07-18T13:54:18.390Z"
   },
   {
    "duration": 4,
    "start_time": "2024-07-18T13:54:22.958Z"
   },
   {
    "duration": 13,
    "start_time": "2024-07-18T13:54:25.807Z"
   },
   {
    "duration": 5,
    "start_time": "2024-07-18T14:06:42.704Z"
   },
   {
    "duration": 7,
    "start_time": "2024-07-18T14:18:48.316Z"
   },
   {
    "duration": 17,
    "start_time": "2024-07-18T14:20:35.656Z"
   },
   {
    "duration": 6,
    "start_time": "2024-07-18T14:23:57.520Z"
   },
   {
    "duration": 6,
    "start_time": "2024-07-18T14:25:17.223Z"
   },
   {
    "duration": 17,
    "start_time": "2024-07-18T14:25:29.894Z"
   },
   {
    "duration": 3,
    "start_time": "2024-07-18T14:26:10.953Z"
   },
   {
    "duration": 10,
    "start_time": "2024-07-18T14:26:14.516Z"
   },
   {
    "duration": 18,
    "start_time": "2024-07-18T14:27:18.662Z"
   },
   {
    "duration": 7,
    "start_time": "2024-07-18T14:32:43.358Z"
   },
   {
    "duration": 7,
    "start_time": "2024-07-18T14:32:50.912Z"
   },
   {
    "duration": 16,
    "start_time": "2024-07-18T14:33:45.668Z"
   },
   {
    "duration": 6,
    "start_time": "2024-07-18T14:37:40.654Z"
   },
   {
    "duration": 8,
    "start_time": "2024-07-18T14:44:26.550Z"
   },
   {
    "duration": 8,
    "start_time": "2024-07-18T14:44:36.830Z"
   },
   {
    "duration": 8,
    "start_time": "2024-07-18T14:44:43.100Z"
   },
   {
    "duration": 17,
    "start_time": "2024-07-18T14:45:49.092Z"
   },
   {
    "duration": 7,
    "start_time": "2024-07-18T14:47:50.457Z"
   },
   {
    "duration": 50,
    "start_time": "2024-07-19T10:14:02.965Z"
   },
   {
    "duration": 524,
    "start_time": "2024-07-19T10:14:05.855Z"
   },
   {
    "duration": 23,
    "start_time": "2024-07-19T10:14:06.381Z"
   },
   {
    "duration": 16,
    "start_time": "2024-07-19T10:14:06.405Z"
   },
   {
    "duration": 12,
    "start_time": "2024-07-19T10:14:06.422Z"
   },
   {
    "duration": 36,
    "start_time": "2024-07-19T10:14:06.436Z"
   },
   {
    "duration": 4,
    "start_time": "2024-07-19T10:14:06.473Z"
   },
   {
    "duration": 31,
    "start_time": "2024-07-19T10:14:06.478Z"
   },
   {
    "duration": 5,
    "start_time": "2024-07-19T10:14:06.510Z"
   },
   {
    "duration": 8,
    "start_time": "2024-07-19T10:14:06.516Z"
   },
   {
    "duration": 15,
    "start_time": "2024-07-19T10:14:06.526Z"
   },
   {
    "duration": 38,
    "start_time": "2024-07-19T10:14:06.543Z"
   },
   {
    "duration": 28,
    "start_time": "2024-07-19T10:14:06.583Z"
   },
   {
    "duration": 4,
    "start_time": "2024-07-19T10:14:06.612Z"
   },
   {
    "duration": 45,
    "start_time": "2024-07-19T10:14:06.619Z"
   },
   {
    "duration": 25,
    "start_time": "2024-07-19T10:14:06.666Z"
   },
   {
    "duration": 28,
    "start_time": "2024-07-19T10:14:06.701Z"
   },
   {
    "duration": 5,
    "start_time": "2024-07-19T10:14:06.731Z"
   },
   {
    "duration": 21,
    "start_time": "2024-07-19T10:14:06.738Z"
   },
   {
    "duration": 8,
    "start_time": "2024-07-19T10:14:06.761Z"
   },
   {
    "duration": 4,
    "start_time": "2024-07-19T10:14:06.771Z"
   },
   {
    "duration": 30,
    "start_time": "2024-07-19T10:14:06.777Z"
   },
   {
    "duration": 8,
    "start_time": "2024-07-19T10:14:06.809Z"
   },
   {
    "duration": 4,
    "start_time": "2024-07-19T10:14:06.819Z"
   },
   {
    "duration": 24,
    "start_time": "2024-07-19T10:14:06.824Z"
   },
   {
    "duration": 6,
    "start_time": "2024-07-19T10:14:06.850Z"
   },
   {
    "duration": 34,
    "start_time": "2024-07-19T10:14:06.857Z"
   },
   {
    "duration": 8,
    "start_time": "2024-07-19T10:14:06.905Z"
   },
   {
    "duration": 25,
    "start_time": "2024-07-19T10:14:06.915Z"
   },
   {
    "duration": 7,
    "start_time": "2024-07-19T10:14:06.941Z"
   },
   {
    "duration": 22,
    "start_time": "2024-07-19T10:14:06.950Z"
   },
   {
    "duration": 33,
    "start_time": "2024-07-19T10:14:06.973Z"
   },
   {
    "duration": 8,
    "start_time": "2024-07-19T10:14:07.007Z"
   },
   {
    "duration": 20,
    "start_time": "2024-07-19T10:14:07.016Z"
   },
   {
    "duration": 22,
    "start_time": "2024-07-19T10:14:07.037Z"
   },
   {
    "duration": 8,
    "start_time": "2024-07-19T10:14:07.060Z"
   }
  ],
  "colab": {
   "provenance": []
  },
  "kernelspec": {
   "display_name": "Python 3 (ipykernel)",
   "language": "python",
   "name": "python3"
  },
  "language_info": {
   "codemirror_mode": {
    "name": "ipython",
    "version": 3
   },
   "file_extension": ".py",
   "mimetype": "text/x-python",
   "name": "python",
   "nbconvert_exporter": "python",
   "pygments_lexer": "ipython3",
   "version": "3.12.2"
  },
  "toc": {
   "base_numbering": 1,
   "nav_menu": {},
   "number_sections": true,
   "sideBar": true,
   "skip_h1_title": true,
   "title_cell": "Table of Contents",
   "title_sidebar": "Contents",
   "toc_cell": false,
   "toc_position": {
    "height": "calc(100% - 180px)",
    "left": "10px",
    "top": "150px",
    "width": "228.4px"
   },
   "toc_section_display": true,
   "toc_window_display": true
  }
 },
 "nbformat": 4,
 "nbformat_minor": 5
}
