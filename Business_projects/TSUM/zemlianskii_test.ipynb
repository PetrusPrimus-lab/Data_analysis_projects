{
 "cells": [
  {
   "cell_type": "markdown",
   "metadata": {},
   "source": [
    "# Ускоренная оптимизация работы пункта выдачи заказов"
   ]
  },
  {
   "cell_type": "markdown",
   "metadata": {},
   "source": [
    "## Оглавление\n",
    "* [Описание проекта](#description)\n",
    "* [Цель и задачи работы](#purpose)\n",
    "* [Исходные данные](#init_data)\n",
    "* [Импорт библиотек](#import)\n",
    "* [Знакомство с данными](#data_info)\n",
    "* [Предобработка данных](#preprocessing)\n",
    "    * [Названия столбцов](#col_titles)\n",
    "    * [Классификация заказов](#classification)\n",
    "* [Исследовательский анализ данных](#investigation)\n",
    "* [Общие выводы](#conclusion)"
   ]
  },
  {
   "cell_type": "markdown",
   "metadata": {},
   "source": [
    "## Описание проекта <a class='anchor' id='description'></a>"
   ]
  },
  {
   "cell_type": "markdown",
   "metadata": {},
   "source": [
    "Дан набор данных по продажам пункта выдачи заказов (ПВЗ) одного известного департмент стора. Его сотрудники столкнулись с проблемой высокой загрузки ПВЗ. Увеличение времени обслуживания клиентов приводит к ухудшению качества клиентского сервиса. Ранее выяснилось, что время ожидания на ПВЗ выросло из-за нехватки примерочных. Быстро произвести реорганизацию пространства ПВЗ и построить в 3 раза больше примерочных не видится возможным, а снизить количество недовольных клиентов требуется уже сейчас. Руководители ПВЗ высказали предположение, что постамат или наличие дополнительного места для примерки обуви — один из быстрых способов решения проблемы. Необходимо проверить это предположение на цифрах."
   ]
  },
  {
   "cell_type": "markdown",
   "metadata": {},
   "source": [
    "## Цель и задачи работы <a class='anchor' id='purpose'></a>"
   ]
  },
  {
   "cell_type": "markdown",
   "metadata": {},
   "source": [
    "Целью настоящей работы была проверка гипотезы о том, что быстро снизить время ожидания клиентов можно за счет установки постамата или создания дополнительного места для примерки обуви.\n",
    "\n",
    "Для достижения цели в работе решались следующие задачи:\n",
    "* Предобработка данных;\n",
    "* Классификация заказов в зависимости от содержимого и от количества позиций;\n",
    "* Определение долей заказов, куда входит обувь или сумки, расчет количества позиций в таких заказах и вычисление их выкупаемости."
   ]
  },
  {
   "cell_type": "markdown",
   "metadata": {},
   "source": [
    "## Исходные данные <a class='anchor' id='init_data'></a>"
   ]
  },
  {
   "cell_type": "markdown",
   "metadata": {},
   "source": [
    "* Week - неделя, на которой был совершен заказ\n",
    "* Day - дата заказа\n",
    "* DelivType - тип доставки\n",
    "* PymentType - тип оплаты\n",
    "* Journal_id - уникальный идентификатор заказа\n",
    "* _ktt1 - категория товара 1го уровня вложенности\n",
    "* _ktt2 - категория товара 2го уровня вложенности\n",
    "* _ktt3 - категория товара 3го уровня вложенности\n",
    "* _itemid - код товара\n",
    "* _colorid - код цвета\n",
    "* _Approved_USD - подтвержденный заказ в деньгах\n",
    "* _Approved_PCS - подтвержденный заказ в штуках\n",
    "* _Net_USD - выкупленный заказ в деньгах\n",
    "* _Net_PCS - выкупленный заказ в штуках"
   ]
  },
  {
   "cell_type": "markdown",
   "metadata": {},
   "source": [
    "## Импортируем библиотеки <a class='anchor' id='import'></a>"
   ]
  },
  {
   "cell_type": "code",
   "execution_count": 1,
   "metadata": {},
   "outputs": [],
   "source": [
    "import pandas as pd \n",
    "import numpy as np \n",
    "import plotly.express as px\n",
    "import plotly.graph_objects as go\n",
    "from plotly.subplots import make_subplots \n",
    "from warnings import filterwarnings\n",
    "filterwarnings('ignore')"
   ]
  },
  {
   "cell_type": "markdown",
   "metadata": {},
   "source": [
    "## Знакомство с данными <a class='anchor' id='data_info'></a>"
   ]
  },
  {
   "cell_type": "markdown",
   "metadata": {},
   "source": [
    "Загрузим датафрейм и посмотрим первые 5 строк."
   ]
  },
  {
   "cell_type": "code",
   "execution_count": null,
   "metadata": {},
   "outputs": [],
   "source": [
    "try:\n",
    "    data = pd.read_excel('Тестовое задание - Анализ заказов ПВЗ (данные).xlsx')\n",
    "except:\n",
    "    data = pd.read_excel(\n",
    "        'https://docs.google.com/spreadsheets/d/1Gfe520uN9bp3ccGJ7wBEy2x-8AefZSDe/edit?usp=drive_link&ouid=113002162786845116336&rtpof=true&sd=true'\n",
    "        )\n",
    "data.head()"
   ]
  },
  {
   "cell_type": "markdown",
   "metadata": {},
   "source": [
    "Посмотрим общую информацию о датафрейме."
   ]
  },
  {
   "cell_type": "code",
   "execution_count": null,
   "metadata": {},
   "outputs": [],
   "source": [
    "data.info()"
   ]
  },
  {
   "cell_type": "markdown",
   "metadata": {},
   "source": [
    "В датафрейме отсутствуют пропуски. Столбцы содержат данные нужного типа. В блоке по предобработке данных приведем названия столбцов к змеиному регистру и заменим название столбца `Day` на `date` для удобства.\n",
    "\n",
    "Проверим наличие полных дубликатов."
   ]
  },
  {
   "cell_type": "code",
   "execution_count": null,
   "metadata": {},
   "outputs": [],
   "source": [
    "data.duplicated().sum()"
   ]
  },
  {
   "cell_type": "markdown",
   "metadata": {},
   "source": [
    "В датафрейме отсутствуют полные дубликаты. Однако могут встречаться неявные дубликаты. Проверим их наличие. Посмотрим, есть ли дубли идентификаторов заказов."
   ]
  },
  {
   "cell_type": "code",
   "execution_count": null,
   "metadata": {},
   "outputs": [],
   "source": [
    "print(f'''Количество уникальных идентификаторов заказов = {data['Journal_id'].nunique()}\n",
    "Общее количество идентификаторов заказов = {len(data)} ''')"
   ]
  },
  {
   "cell_type": "markdown",
   "metadata": {},
   "source": [
    "Видим, что в датафрейме есть больше половины задублированных идентификаторов заказов.\n",
    "\n",
    "Сохраним дубли и уникальные строки в отдельные датафреймы."
   ]
  },
  {
   "cell_type": "code",
   "execution_count": 6,
   "metadata": {},
   "outputs": [],
   "source": [
    "data_id_duplicates = data[data['Journal_id'].duplicated()]\n",
    "data_without_id_duplicates = data.drop_duplicates(subset='Journal_id')"
   ]
  },
  {
   "cell_type": "markdown",
   "metadata": {},
   "source": [
    "Выведем пример строк с задублированными идентификаторами."
   ]
  },
  {
   "cell_type": "code",
   "execution_count": null,
   "metadata": {},
   "outputs": [],
   "source": [
    "display(data_without_id_duplicates[data_without_id_duplicates['Journal_id'] == \n",
    "                                   data_id_duplicates['Journal_id'].reset_index(drop=True)[0]])\n",
    "display(data_id_duplicates[data_id_duplicates['Journal_id'] == data_id_duplicates['Journal_id'].reset_index(drop=True)[0]])"
   ]
  },
  {
   "cell_type": "markdown",
   "metadata": {},
   "source": [
    "Видно, что дубли, скорее всего, связаны с тем, что один и тот же клиент в одном заказе выбирает товары из разных категорий или товары из одинаковых категорий, но разных размеров/фасонов. Чтобы учесть каждую позицию и не записывать все в одну и ту же строку, сделаны дублирующие строки.\n",
    "\n",
    "Таким образом, неявных дубликатов нет."
   ]
  },
  {
   "cell_type": "markdown",
   "metadata": {},
   "source": [
    "Посмотрим на распределения количественных признаков."
   ]
  },
  {
   "cell_type": "code",
   "execution_count": null,
   "metadata": {},
   "outputs": [],
   "source": [
    "fig = make_subplots(\n",
    "    rows=2, \n",
    "    cols=2\n",
    ")\n",
    "\n",
    "fig.add_trace(go.Histogram(x=data['_Approved_PCS'],\n",
    "                           xbins=dict(start=0, end=max(data['_Approved_PCS']), size=0.5),\n",
    "                           name='Распределение подтвержденных заказов в штуках'),\n",
    "              row=1,\n",
    "              col=1,\n",
    "              )\n",
    "\n",
    "fig.add_trace(go.Histogram(x=data['_Net_PCS'],\n",
    "                           xbins=dict(start=0, end=max(data['_Net_PCS']), size=0.5),\n",
    "                           name='Распределение выкупленных заказов в штуках'),\n",
    "              row=1,\n",
    "              col=2,\n",
    "              )\n",
    "\n",
    "fig.add_trace(go.Histogram(x=data['_Approved_USD'],\n",
    "                           xbins=dict(start=0, end=max(data['_Approved_USD']), size=100),\n",
    "                           name='Распределение подтвержденных заказов в USD'),\n",
    "              row=2,\n",
    "              col=1,\n",
    "              )\n",
    "\n",
    "fig.add_trace(go.Histogram(x=data['_Net_USD'],\n",
    "                           xbins=dict(start=0, end=max(data['_Net_USD']), size=300),\n",
    "                           name='Распределение выкупленных заказов в USD'),\n",
    "              row=2,\n",
    "              col=2,\n",
    "              )\n",
    "\n",
    "fig.update_layout(height=500, \n",
    "                  width=1220, \n",
    "                  title_text=\"Распределения количественных признаков\",\n",
    "                  legend=dict(yanchor=\"top\", y=1.35, xanchor=\"left\", x=0.66))\n",
    "fig.show()"
   ]
  },
  {
   "cell_type": "markdown",
   "metadata": {},
   "source": [
    "В датафрейме присутствуют порядка 100 тыс. подтвержденных заказов, где ничего не заказали. Возможно, эти заказы относятся к категории `Услуги`. Проверим наше предположение."
   ]
  },
  {
   "cell_type": "code",
   "execution_count": null,
   "metadata": {},
   "outputs": [],
   "source": [
    "print(f'''Заказы, где нет выкупаемых позиций, относятся к категории \\\n",
    "\"{data[(data['_Approved_USD'] == 0) & (data['_Approved_PCS'] == 0)]['_ktt2'].unique()[0]}\"''')"
   ]
  },
  {
   "cell_type": "markdown",
   "metadata": {},
   "source": [
    "Действительно, это `Услуги`. Проверим количество таких заказов."
   ]
  },
  {
   "cell_type": "code",
   "execution_count": null,
   "metadata": {},
   "outputs": [],
   "source": [
    "len(data[(data['_Approved_USD'] == 0) & (data['_Approved_PCS'] == 0)]['_ktt2'])"
   ]
  },
  {
   "cell_type": "markdown",
   "metadata": {},
   "source": [
    "Результат совпадает с тем, что мы наблюдали на соответствующих гистограммах."
   ]
  },
  {
   "cell_type": "markdown",
   "metadata": {},
   "source": [
    "Также из построенных распределений видно следующее:\n",
    "* В основном клиенты заказывают не более 1 вещи стоимостью не выше 2 тыс. USD. Есть отдельные заказы с большим количеством вещей и стоимостью повыше, но они составляют не более 10% от общего числа заказов. К выбросам их отнести нельзя, потому что такие заказы, действительно, имели место быть. Например, клиент хотел померить одежду или обувь разных размеров, чтобы затем выбрать подходящий вариант.\n",
    "* Преобладают кейсы, когда клиент выкупает только 1 вещь или вовсе ничего. Сумма выкупаемых вещей находится в интервале до 1500 тыс. USD. Причем 70% приходится на покупки до 300 USD. Вероятно, причиной может быть то же самое, что и в предыдущем пункте."
   ]
  },
  {
   "cell_type": "markdown",
   "metadata": {},
   "source": [
    "Можно сделать следующие промежуточные выводы:\n",
    "* В датафрейме нет пропусков и дубликатов как явных, так и неявных.\n",
    "* Данные приведены к нужному типу.\n",
    "* На этапе предобработки нужно привести названия столбцов к змеиному регистру и заменить название столбца `Day` на `date` для удобства.\n",
    "* В датафрейме присутствуют порядка 100 тыс. подтвержденных заказов, где ничего не заказали. Они относятся к категории `Услуги`."
   ]
  },
  {
   "cell_type": "markdown",
   "metadata": {},
   "source": [
    "## Предобработка данных <a class='anchor' id='preprocessing'></a>"
   ]
  },
  {
   "cell_type": "markdown",
   "metadata": {},
   "source": [
    "### Названия столбцов <a class='anchor' id='col_titles'></a>"
   ]
  },
  {
   "cell_type": "markdown",
   "metadata": {},
   "source": [
    "Приведем названия столбцов к змеиному регистру и заменим название столбца `Day` на `date` для удобства."
   ]
  },
  {
   "cell_type": "markdown",
   "metadata": {},
   "source": [
    "Исходные названия столбцов следующие"
   ]
  },
  {
   "cell_type": "code",
   "execution_count": null,
   "metadata": {},
   "outputs": [],
   "source": [
    "data.columns"
   ]
  },
  {
   "cell_type": "code",
   "execution_count": 12,
   "metadata": {},
   "outputs": [],
   "source": [
    "data.columns = data.columns.str.lower()"
   ]
  },
  {
   "cell_type": "markdown",
   "metadata": {},
   "source": [
    "После приведения к нижнему регистру заголовки имеют следующий вид"
   ]
  },
  {
   "cell_type": "code",
   "execution_count": null,
   "metadata": {},
   "outputs": [],
   "source": [
    "data.columns"
   ]
  },
  {
   "cell_type": "markdown",
   "metadata": {},
   "source": [
    "Внесем последние правки"
   ]
  },
  {
   "cell_type": "code",
   "execution_count": 14,
   "metadata": {},
   "outputs": [],
   "source": [
    "data = data.rename(columns={\n",
    "    'day': 'date',\n",
    "    'delivtype': 'deliv_type',\n",
    "    'pymenttype': 'payment_type',\n",
    "    '_ktt1': 'ktt_1',\n",
    "    '_ktt2': 'ktt_2',\n",
    "    '_ktt3': 'ktt_3',\n",
    "    '_itemid': 'item_id',\n",
    "    '_colorid': 'color_id',\n",
    "    '_approved_usd': 'approved_usd',\n",
    "    '_approved_pcs': 'approved_pcs',\n",
    "    '_net_usd': 'net_usd',\n",
    "    '_net_pcs': 'net_pcs'\n",
    "})"
   ]
  },
  {
   "cell_type": "markdown",
   "metadata": {},
   "source": [
    "Итоговые названия столбцов теперь выглядят так"
   ]
  },
  {
   "cell_type": "code",
   "execution_count": null,
   "metadata": {},
   "outputs": [],
   "source": [
    "data.columns"
   ]
  },
  {
   "cell_type": "markdown",
   "metadata": {},
   "source": [
    "### Классификация заказов <a class='anchor' id='classification'></a>"
   ]
  },
  {
   "cell_type": "markdown",
   "metadata": {},
   "source": [
    "Распределим заказы по следующим группам:\n",
    "* нужна примерка в примерочной - все заказы, где хотя бы одна позиция одежда (ktt_2 = Одежда)\n",
    "* легко примерить в зале - заказы, в которых только обувь и ничего больше (ktt_2 = Обувь). Заказы вида Обувь+Услуги подходят тоже\n",
    "* примерка не нужна - для простоты возьмем заказы, в которых только сумки (ktt_2 = Сумки). Заказы вида Сумки+Услуги подходят тоже"
   ]
  },
  {
   "cell_type": "markdown",
   "metadata": {},
   "source": [
    "Для таких целей лучше всего написать функцию."
   ]
  },
  {
   "cell_type": "code",
   "execution_count": 16,
   "metadata": {},
   "outputs": [],
   "source": [
    "def order_class(\n",
    "        row: pd.Series\n",
    ") -> str:\n",
    "    '''\n",
    "    Функция для классификации заказов по их содержимому\n",
    "    '''\n",
    "\n",
    "    try:\n",
    "        if 'Одежда' in row or 'одежда' in row:\n",
    "            return 'нужна примерка в примерочной'\n",
    "        elif ('Обувь' in row or 'Обувь' in row and 'Услуги' in row) and \\\n",
    "            (\n",
    "                not 'Бижутерия' in row and \\\n",
    "                not 'Аксессуары' in row and \\\n",
    "                not 'Сумки' in row and \\\n",
    "                not 'Подарочные карты' in row and \\\n",
    "                not 'Рюкзак дорожный' in row and \\\n",
    "                not 'Чемодан' in row   \n",
    "            ):\n",
    "            return 'легко примерить в зале'\n",
    "        elif 'Сумки' in row and \\\n",
    "            (\n",
    "                not 'Бижутерия' in row and \\\n",
    "                not 'Аксессуары' in row and \\\n",
    "                not 'Подарочные карты' in row and \\\n",
    "                not 'Рюкзак дорожный' in row and \\\n",
    "                not 'Чемодан' in row and \\\n",
    "                not 'Обувь' in row and \\\n",
    "                not 'Услуги' in row\n",
    "            ):\n",
    "            return 'примерка не нужна'\n",
    "        else:\n",
    "            return 'остальное'\n",
    "    except:\n",
    "        return 'нет категории'"
   ]
  },
  {
   "cell_type": "markdown",
   "metadata": {},
   "source": [
    "Сгруппируем содержимое заказов `ktt_2` по id заказов."
   ]
  },
  {
   "cell_type": "code",
   "execution_count": null,
   "metadata": {},
   "outputs": [],
   "source": [
    "data_grouped_by_id = data.pivot_table(index='journal_id', values='ktt_2', aggfunc='sum').reset_index()\n",
    "data_grouped_by_id.columns = ['journal_id', 'ktt_2']\n",
    "data_grouped_by_id.head()"
   ]
  },
  {
   "cell_type": "markdown",
   "metadata": {},
   "source": [
    "Применим написанную ранее функцию для классификации заказов по содержимому."
   ]
  },
  {
   "cell_type": "code",
   "execution_count": null,
   "metadata": {},
   "outputs": [],
   "source": [
    "data_grouped_by_id['category'] = data_grouped_by_id['ktt_2'].apply(order_class)\n",
    "data_grouped_by_id.head(20)"
   ]
  },
  {
   "cell_type": "markdown",
   "metadata": {},
   "source": [
    "Сделаем таблицу, где будут только уникальные идентификаторы заказов и их категория."
   ]
  },
  {
   "cell_type": "code",
   "execution_count": null,
   "metadata": {},
   "outputs": [],
   "source": [
    "data_grouped_by_id = data_grouped_by_id.drop('ktt_2', axis=1)\n",
    "data_grouped_by_id.head()"
   ]
  },
  {
   "cell_type": "markdown",
   "metadata": {},
   "source": [
    "## Исследовательский анализ данных <a class='anchor' id='investigation'></a>"
   ]
  },
  {
   "cell_type": "markdown",
   "metadata": {},
   "source": [
    "**Посмотрим по месяцам, какую долю от общего числа заказов составляют заказы каждой из выделенных категорий.**"
   ]
  },
  {
   "cell_type": "markdown",
   "metadata": {},
   "source": [
    "Сначала добавим к таблице с категориями заказов соответствующие месяцы из исходной таблицы."
   ]
  },
  {
   "cell_type": "code",
   "execution_count": null,
   "metadata": {},
   "outputs": [],
   "source": [
    "data_grouped_by_id_months = pd.merge(left=data_grouped_by_id, right=data.drop_duplicates(subset='journal_id'), on='journal_id', how='left')\n",
    "data_grouped_by_id_months = data_grouped_by_id_months[['journal_id', 'category', 'date']]\n",
    "data_grouped_by_id_months['date'] = data_grouped_by_id_months['date'].dt.month\n",
    "data_grouped_by_id_months = data_grouped_by_id_months.rename(columns={'date': 'month'})\n",
    "data_grouped_by_id_months.head()"
   ]
  },
  {
   "cell_type": "markdown",
   "metadata": {},
   "source": [
    "Далее составим сводную таблицу, где помесячно рассмотрим количество заказов каждой категории."
   ]
  },
  {
   "cell_type": "code",
   "execution_count": null,
   "metadata": {},
   "outputs": [],
   "source": [
    "data_categories_share = data_grouped_by_id_months.pivot_table(\n",
    "    index='month',\n",
    "    columns='category',\n",
    "    values='journal_id',\n",
    "    aggfunc='count'\n",
    ")\n",
    "data_categories_share"
   ]
  },
  {
   "cell_type": "markdown",
   "metadata": {},
   "source": [
    "Далее вычислим доли (в %) заказов каждой категории в общем пуле заказов."
   ]
  },
  {
   "cell_type": "code",
   "execution_count": null,
   "metadata": {},
   "outputs": [],
   "source": [
    "data_categories_share['total'] = data_categories_share.loc[:, 'легко примерить в зале':'примерка не нужна'].sum(axis=1)\n",
    "data_categories_share['легко примерить в зале'] = data_categories_share['легко примерить в зале'] / data_categories_share['total'] * 100\n",
    "data_categories_share['нужна примерка в примерочной'] = data_categories_share['нужна примерка в примерочной'] / data_categories_share['total'] * 100\n",
    "data_categories_share['остальное'] = data_categories_share['остальное'] / data_categories_share['total'] * 100\n",
    "data_categories_share['примерка не нужна'] = data_categories_share['примерка не нужна'] / data_categories_share['total'] * 100\n",
    "data_categories_share = data_categories_share.drop('total', axis=1)\n",
    "data_categories_share"
   ]
  },
  {
   "cell_type": "markdown",
   "metadata": {},
   "source": [
    "Представим эту информацию также в графическом виде."
   ]
  },
  {
   "cell_type": "code",
   "execution_count": null,
   "metadata": {},
   "outputs": [],
   "source": [
    "fig = px.bar(\n",
    "    data_frame=data_categories_share.reset_index().set_index('month'),\n",
    "    title='Доля товаров разных категорий с разбивкой по месяцам',\n",
    "    labels={'month': 'Месяцы', 'value': 'Доля, %'}\n",
    ")\n",
    "fig.update_layout(\n",
    "    legend=dict(yanchor=\"top\", y=1.45, xanchor=\"left\", x=0.77),\n",
    "    xaxis=dict(\n",
    "        tickmode='array',\n",
    "        tickvals=[i for i in range(1, 13)]\n",
    "    )\n",
    "    )\n",
    "fig.show()"
   ]
  },
  {
   "cell_type": "markdown",
   "metadata": {},
   "source": [
    "Промежуточные выводы:\n",
    "* Заказы, где необходима примерка в примерочной (то есть присутствует какая-то одежда), ежемесячно составляют от 45 до 55 % от общего числа заказов. Месяцы, когда на долю таких заказов приходится менее 50%: март-май и сентябрь-декабрь - то есть сезоны `Весна` и `Осень`;\n",
    "* На заказы, где примерка не нужна (только сумки) или товар можно легко примерить в зале (обувь или обувь+услуги) ежемесячно приходится 15 - 26 % от общего числа заказов. \n",
    "* Стоит обратить внимание на категорию `Остальное`. Их - от 19 до 39 % ежемесячно. Туда попали заказы, где есть различные аксессуары и ничего больше либо аксессуары и обувь с услугами. Для таких случаев можно предусмотреть в пункте место, куда можно класть получаемые аксессуары, чтобы их осмотреть. Если у клиента, помимо аксессуаров, будет еще и обувь, то он мог бы оставить аксессуары в отведенном месте и примерить обувь в зале. Кроме того, сотрудник, выдающий заказы, может приносить клиенту сначала обувь, чтобы тот померил ее в зале, а аксессуары - во вторую очередь."
   ]
  },
  {
   "cell_type": "markdown",
   "metadata": {},
   "source": [
    "**Посмотрим по месяцам количество заказов группы \"Легко примерить в зале\" по количеству заказанных позиций. Услуги исключим из расчета количества позиций**"
   ]
  },
  {
   "cell_type": "markdown",
   "metadata": {},
   "source": [
    "Составим таблицу с количеством заказанных позиций в каждом уникальном заказе. Услуги не будем включать в расчет."
   ]
  },
  {
   "cell_type": "code",
   "execution_count": null,
   "metadata": {},
   "outputs": [],
   "source": [
    "data_counts = data[data['ktt_2'] != 'Услуги']['journal_id'].value_counts().reset_index()\n",
    "data_counts.head()"
   ]
  },
  {
   "cell_type": "markdown",
   "metadata": {},
   "source": [
    "Добавим данные о количестве заказанных позиций в таблицу с категориями и месяцами - `data_grouped_by_id_months` "
   ]
  },
  {
   "cell_type": "code",
   "execution_count": null,
   "metadata": {},
   "outputs": [],
   "source": [
    "data_grouped_by_id_months_count = pd.merge(left=data_grouped_by_id_months, right=data_counts, on='journal_id', how='left')\n",
    "data_grouped_by_id_months_count.head()"
   ]
  },
  {
   "cell_type": "markdown",
   "metadata": {},
   "source": [
    "Оставим только те заказы, которые относятся к категории `легко примерить в зале`"
   ]
  },
  {
   "cell_type": "code",
   "execution_count": null,
   "metadata": {},
   "outputs": [],
   "source": [
    "data_positions_counts = data_grouped_by_id_months_count[\n",
    "    data_grouped_by_id_months_count['category'] == 'легко примерить в зале'\n",
    "    ]\n",
    "data_positions_counts['count'] = data_positions_counts['count'].astype('int')\n",
    "data_positions_counts.head()"
   ]
  },
  {
   "cell_type": "markdown",
   "metadata": {},
   "source": [
    "Посмотрим, какие уникальные значения количества позиций в одном заказе встречаются в созданной таблице."
   ]
  },
  {
   "cell_type": "code",
   "execution_count": null,
   "metadata": {},
   "outputs": [],
   "source": [
    "sorted(data_positions_counts['count'].unique())"
   ]
  },
  {
   "cell_type": "markdown",
   "metadata": {},
   "source": [
    "Напишем функцию для категоризации заказов из полученной таблицы по количеству товаров. Будем считать, что заказы, где больше 4 позиций (в данном случае - пар обуви), неудобны для примерки в зале, так как это будет захломлять зал и мешать другим клиентам. Поэтому отнесем такие заказы к категории `больше 4 позиций`."
   ]
  },
  {
   "cell_type": "code",
   "execution_count": 28,
   "metadata": {},
   "outputs": [],
   "source": [
    "def positions_counts_category(\n",
    "        row: pd.Series\n",
    ") -> str:\n",
    "    try:\n",
    "        if row == 1:\n",
    "            return 'однотоварник'\n",
    "        elif row == 2:\n",
    "            return 'двухтоварник'\n",
    "        elif row == 3:\n",
    "            return 'трехтоварник'\n",
    "        elif row == 4:\n",
    "            return 'четырехтоварник'\n",
    "        elif row > 5:\n",
    "            return 'больше 4 позиций'\n",
    "    except:\n",
    "        return 'нет категории'"
   ]
  },
  {
   "cell_type": "markdown",
   "metadata": {},
   "source": [
    "Применим написанную функцию для классификации заказов группы `легко примерить в зале` по количеству товаров"
   ]
  },
  {
   "cell_type": "code",
   "execution_count": null,
   "metadata": {},
   "outputs": [],
   "source": [
    "data_positions_counts['counts_category'] = data_positions_counts['count'].apply(positions_counts_category)\n",
    "data_positions_counts.head()"
   ]
  },
  {
   "cell_type": "markdown",
   "metadata": {},
   "source": [
    "Сделаем сводную таблицу с количеством заказов в разрезе месяцев и категорий по числу позиций в заказе."
   ]
  },
  {
   "cell_type": "code",
   "execution_count": null,
   "metadata": {},
   "outputs": [],
   "source": [
    "data_positions_counts_pivot = (\n",
    "    data_positions_counts\n",
    "    .pivot_table(\n",
    "        index='month',\n",
    "        columns='counts_category',\n",
    "        values='journal_id',\n",
    "        aggfunc='count'\n",
    "    )\n",
    "    )\n",
    "data_positions_counts_pivot"
   ]
  },
  {
   "cell_type": "markdown",
   "metadata": {},
   "source": [
    "Представим эту таблицу также в графическом виде."
   ]
  },
  {
   "cell_type": "code",
   "execution_count": null,
   "metadata": {},
   "outputs": [],
   "source": [
    "fig = px.bar(\n",
    "    data_frame=data_positions_counts_pivot.reset_index().set_index('month'),\n",
    "    title='Количество заказов в зависимости от категории по числу позиций с разбивкой по месяцам',\n",
    "    labels={'month': 'Месяцы', 'value': 'Количество заказов'}\n",
    ")\n",
    "fig.update_layout(\n",
    "    legend=dict(yanchor=\"top\", y=1.45, xanchor=\"left\", x=0.85),\n",
    "    xaxis=dict(\n",
    "        tickmode='array',\n",
    "        tickvals=[i for i in range(1, 13)]\n",
    "    ),\n",
    "    width=1200,\n",
    "    height=600\n",
    "    )\n",
    "fig.show()"
   ]
  },
  {
   "cell_type": "markdown",
   "metadata": {},
   "source": [
    "Промежуточные выводы:\n",
    "* Среди заказов категории `легко примерить в зале` преобладают однотоварники - более 70% каждый месяц.\n",
    "* Двухтоварников - от 10 до 20 %.\n",
    "* На заказы с большим числом позиций приходится менее 5 - 10 %."
   ]
  },
  {
   "cell_type": "markdown",
   "metadata": {},
   "source": [
    "**Вычислим выкупаемость заказов из категории `легко примерить в зале`. Услуги в расчет также не берем.**"
   ]
  },
  {
   "cell_type": "code",
   "execution_count": null,
   "metadata": {},
   "outputs": [],
   "source": [
    "data_net_to_approve = (\n",
    "    pd.merge(\n",
    "        left=data_positions_counts, \n",
    "        right=data[data['ktt_2'] != 'Услуги'][['journal_id', 'net_usd', 'approved_usd']], \n",
    "        on='journal_id', \n",
    "        how='left')\n",
    "    )\n",
    "data_net_to_approve.head()"
   ]
  },
  {
   "cell_type": "markdown",
   "metadata": {},
   "source": [
    "Вычислим выкупаемость заказов."
   ]
  },
  {
   "cell_type": "code",
   "execution_count": null,
   "metadata": {},
   "outputs": [],
   "source": [
    "data_net_to_approve['net/approve'] = data_net_to_approve['net_usd'] / data_net_to_approve['approved_usd']\n",
    "data_net_to_approve.head()"
   ]
  },
  {
   "cell_type": "markdown",
   "metadata": {},
   "source": [
    "Сделаем сводную таблицу со значениями средней выкупаемости заказов категории `легко примерить в зале` в разрезе месяцев и типа заказа по числу позиций в нем."
   ]
  },
  {
   "cell_type": "code",
   "execution_count": null,
   "metadata": {},
   "outputs": [],
   "source": [
    "data_net_to_approve_pivot = (\n",
    "    data_net_to_approve\n",
    "    .pivot_table(\n",
    "        index='month',\n",
    "        columns='counts_category',\n",
    "        values='net/approve',\n",
    "        aggfunc='mean'\n",
    "    )\n",
    ")\n",
    "data_net_to_approve_pivot"
   ]
  },
  {
   "cell_type": "markdown",
   "metadata": {},
   "source": [
    "Представим ту же таблицу в графическом интерактивном виде."
   ]
  },
  {
   "cell_type": "code",
   "execution_count": null,
   "metadata": {},
   "outputs": [],
   "source": [
    "fig = make_subplots(rows=1, cols=1)\n",
    "\n",
    "fig.add_trace(\n",
    "    trace=go.Scatter(\n",
    "        y=data_net_to_approve_pivot.reset_index()['однотоварник'],\n",
    "        x=data_net_to_approve_pivot.reset_index()['month'],\n",
    "        name='однотоварник'),\n",
    "    row=1,\n",
    "    col=1\n",
    "),\n",
    "\n",
    "fig.add_trace(\n",
    "    trace=go.Scatter(\n",
    "        y=data_net_to_approve_pivot.reset_index()['двухтоварник'],\n",
    "        x=data_net_to_approve_pivot.reset_index()['month'],\n",
    "        name='двухтоварник'),\n",
    "    row=1,\n",
    "    col=1\n",
    "),\n",
    "\n",
    "fig.add_trace(\n",
    "    trace=go.Scatter(\n",
    "        y=data_net_to_approve_pivot.reset_index()['трехтоварник'],\n",
    "        x=data_net_to_approve_pivot.reset_index()['month'],\n",
    "        name='трехтоварник'),\n",
    "    row=1,\n",
    "    col=1\n",
    "),\n",
    "\n",
    "fig.add_trace(\n",
    "    trace=go.Scatter(\n",
    "        y=data_net_to_approve_pivot.reset_index()['четырехтоварник'],\n",
    "        x=data_net_to_approve_pivot.reset_index()['month'],\n",
    "        name='четырехтоварник'),\n",
    "    row=1,\n",
    "    col=1\n",
    "),\n",
    "\n",
    "fig.add_trace(\n",
    "    trace=go.Scatter(\n",
    "        y=data_net_to_approve_pivot.reset_index()['больше 4 позиций'],\n",
    "        x=data_net_to_approve_pivot.reset_index()['month'],\n",
    "        name='больше 4 позиций'),\n",
    "    row=1,\n",
    "    col=1\n",
    ")\n",
    "\n",
    "fig.update_layout(\n",
    "    legend=dict(yanchor=\"top\", y=1.45, xanchor=\"left\", x=0.85),\n",
    "    xaxis=dict(\n",
    "        tickmode='array',\n",
    "        tickvals=[i for i in range(1, 13)]\n",
    "    ),\n",
    "    width=1200,\n",
    "    height=600,\n",
    "    xaxis_title = 'Месяцы',\n",
    "    yaxis_title = 'Выкупаемость, доли ед.',\n",
    "    title_text='Значения выкупаемости заказов по месяцам в зависимости от количества позиций'\n",
    "    )\n",
    "fig.show()"
   ]
  },
  {
   "cell_type": "markdown",
   "metadata": {},
   "source": [
    "Видно, что выкупаемость для всех категорий заказов, которые легко примерить в зале, находится на уровне 0.48 - 0.53. То есть, как правило, клиент выкупает половину первоначального заказа. \n",
    "\n",
    "Заказы с 1 позицией показывают в 10 из 12 месяцев стабильную выкупаемость выше 0.49.\n",
    "\n",
    "Заказы с 2 и 3 позициями показывают выкупаемость выше 0.49 только в 8 из 12 месяцев.\n",
    "\n",
    "Заказы с 4 позициями показывают выкупаемость выше 0.49 только в 7 из 12 месяцев.\n",
    "\n",
    "Заказы, содержащие больше 4 позиций, показывают выкупаемость выше 0.49 только в 6 из 12 месяцев."
   ]
  },
  {
   "cell_type": "markdown",
   "metadata": {},
   "source": [
    "## Общие выводы <a class='anchor' id='conclusion'></a>"
   ]
  },
  {
   "cell_type": "markdown",
   "metadata": {},
   "source": [
    "Проанализировав заказы пункта выдачи за год, можно выделить следующие тренды:\n",
    "* Заказы, где необходима примерка в примерочной (то есть присутствует какая-то одежда), ежемесячно составляют от 45 до 55 % от общего числа заказов. Месяцы, когда на долю таких заказов приходится более 50%: июнь-август и январь-февраль - то есть сезоны `Лето` и `Зима`\n",
    "\n",
    "**=> Увеличить количество примерочных в будущем нужно. Лучше это сделать перед началом зимы или лета, когда больше половины заказов включают одежду**\n",
    "\n",
    "* Стоит обратить внимание на заказы, где есть различные аксессуары и ничего больше либо аксессуары и обувь с услугами. Их - от 19 до 39 % ежемесячно. Для таких случаев можно предусмотреть в пункте место, куда можно класть получаемые аксессуары, чтобы их осмотреть. Если у клиента, помимо аксессуаров, будет еще и обувь, то он мог бы оставить аксессуары в отведенном месте и примерить обувь в зале. Кроме того, сотрудник, выдающий заказы, может приносить клиенту сначала обувь, чтобы тот померил ее в зале, а аксессуары - во вторую очередь.\n",
    "\n",
    "**=> Предусмотреть в зале место, куда можно класть получаемые аксессуары, чтобы их осмотреть**\n",
    "\n",
    "**=> При наличии в заказе аксессуаров и обуви лучше приносить клиенту сначала обувь, чтобы тот померил ее в зале, а аксессуары - во вторую очередь**\n",
    "\n",
    "* На заказы, где примерка не нужна (только сумки) или товар можно легко примерить в зале (обувь или обувь+услуги) ежемесячно приходится 15 - 26 % от общего числа заказов. Причем основную долю составляют именно заказы с обувью.\n",
    "\n",
    "**=> Для быстрой разгрузки пункта выдачи предусмотреть место для примерки обуви в зале - хорошее решение. Примерочные при этом могут быть разргружены почти на 25% каждый месяц. Ставить постамат будет менее эффективно, так как заказов с сумками не более 4% ежемесячно**\n",
    "\n",
    "* Среди заказов с обувью и/или услугами преобладают однотоварники - более 70% каждый месяц. Двухтоварников - от 10 до 20 %. На заказы с большим числом позиций приходится менее 5 - 10 %.\n",
    "\n",
    "**=> Клиентам будет удобно примерить обувь в зале, и зал не будет захломлен, так как в заказах с обувью обычно не более 1 - 2 позиций**\n",
    "\n",
    "* Среднемесячная выкупаемость заказов с обувью находится на уровне 48-53% вне зависимости от количества позиций в заказе.\n",
    "\n",
    "**=> Заказы с обувью показывают высокие значения выкупаемости, поэтому лучше обеспечить клиентам дополнительное место в зале для примерки, чтобы не снижать этот показатель**\n"
   ]
  }
 ],
 "metadata": {
  "kernelspec": {
   "display_name": "Python 3",
   "language": "python",
   "name": "python3"
  },
  "language_info": {
   "codemirror_mode": {
    "name": "ipython",
    "version": 3
   },
   "file_extension": ".py",
   "mimetype": "text/x-python",
   "name": "python",
   "nbconvert_exporter": "python",
   "pygments_lexer": "ipython3",
   "version": "3.12.2"
  }
 },
 "nbformat": 4,
 "nbformat_minor": 2
}
